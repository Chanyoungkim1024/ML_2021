{
  "nbformat": 4,
  "nbformat_minor": 0,
  "metadata": {
    "colab": {
      "name": "코로나시각화의 사본",
      "provenance": [],
      "mount_file_id": "1PKc49j_kNgyxfXZ9MVWX52LVP6jhNu99",
      "authorship_tag": "ABX9TyOExqQv/8tt4rhu/6tXcw3V",
      "include_colab_link": true
    },
    "kernelspec": {
      "name": "python3",
      "display_name": "Python 3"
    },
    "language_info": {
      "name": "python"
    }
  },
  "cells": [
    {
      "cell_type": "markdown",
      "metadata": {
        "id": "view-in-github",
        "colab_type": "text"
      },
      "source": [
        "<a href=\"https://colab.research.google.com/github/Chanyoungkim1024/ML_2021/blob/ML_2021/%EC%BD%94%EB%A1%9C%EB%82%98%EC%8B%9C%EA%B0%81%ED%99%94%EC%9D%98_%EC%82%AC%EB%B3%B8.ipynb\" target=\"_parent\"><img src=\"https://colab.research.google.com/assets/colab-badge.svg\" alt=\"Open In Colab\"/></a>"
      ]
    },
    {
      "cell_type": "code",
      "metadata": {
        "colab": {
          "base_uri": "https://localhost:8080/"
        },
        "id": "DOoKt-wDYdmH",
        "outputId": "02be3d98-bc85-4bd4-91af-078e25872952"
      },
      "source": [
        "from google.colab import drive\n",
        "drive.mount('/content/drive')"
      ],
      "execution_count": null,
      "outputs": [
        {
          "output_type": "stream",
          "text": [
            "Drive already mounted at /content/drive; to attempt to forcibly remount, call drive.mount(\"/content/drive\", force_remount=True).\n"
          ],
          "name": "stdout"
        }
      ]
    },
    {
      "cell_type": "code",
      "metadata": {
        "id": "w2y_ksisaCu2"
      },
      "source": [
        "from google.colab import auth\n",
        "auth.authenticate_user()"
      ],
      "execution_count": null,
      "outputs": []
    },
    {
      "cell_type": "code",
      "metadata": {
        "id": "JRO7OB8qaNNg"
      },
      "source": [
        "import pandas as pd\n",
        "import numpy as np\n",
        "import matplotlib.pyplot as plt\n",
        "import seaborn as sns\n",
        "from datetime import datetime"
      ],
      "execution_count": null,
      "outputs": []
    },
    {
      "cell_type": "code",
      "metadata": {
        "colab": {
          "base_uri": "https://localhost:8080/",
          "height": 36
        },
        "id": "cgIa859SfGIR",
        "outputId": "e39fea80-4b08-4f9c-f469-adc30f432699"
      },
      "source": [
        "%pwd"
      ],
      "execution_count": null,
      "outputs": [
        {
          "output_type": "execute_result",
          "data": {
            "application/vnd.google.colaboratory.intrinsic+json": {
              "type": "string"
            },
            "text/plain": [
              "'/content'"
            ]
          },
          "metadata": {
            "tags": []
          },
          "execution_count": 6
        }
      ]
    },
    {
      "cell_type": "code",
      "metadata": {
        "colab": {
          "base_uri": "https://localhost:8080/"
        },
        "id": "5Fsks5XcfITM",
        "outputId": "3a25e024-e9fe-474c-a610-90d4569d4dcd"
      },
      "source": [
        "%cd /content/drive/"
      ],
      "execution_count": null,
      "outputs": [
        {
          "output_type": "stream",
          "text": [
            "/content/drive\n"
          ],
          "name": "stdout"
        }
      ]
    },
    {
      "cell_type": "code",
      "metadata": {
        "colab": {
          "base_uri": "https://localhost:8080/"
        },
        "id": "_C3WsvGifvLQ",
        "outputId": "3f4d09bf-59b8-4044-e9f2-7185a73e6106"
      },
      "source": [
        "cd \"MyDrive\""
      ],
      "execution_count": null,
      "outputs": [
        {
          "output_type": "stream",
          "text": [
            "/content/drive/MyDrive\n"
          ],
          "name": "stdout"
        }
      ]
    },
    {
      "cell_type": "code",
      "metadata": {
        "colab": {
          "base_uri": "https://localhost:8080/"
        },
        "id": "J5OqiJvSfzk_",
        "outputId": "2a47a8c8-4c3a-4880-c5b9-cded5c29b17d"
      },
      "source": [
        "cd \"covid_data\""
      ],
      "execution_count": null,
      "outputs": [
        {
          "output_type": "stream",
          "text": [
            "/content/drive/MyDrive/covid_data\n"
          ],
          "name": "stdout"
        }
      ]
    },
    {
      "cell_type": "code",
      "metadata": {
        "colab": {
          "base_uri": "https://localhost:8080/",
          "height": 36
        },
        "id": "J94gCz29f3Jn",
        "outputId": "08e99040-0af7-4a54-d7ad-de302b201912"
      },
      "source": [
        "%pwd"
      ],
      "execution_count": null,
      "outputs": [
        {
          "output_type": "execute_result",
          "data": {
            "application/vnd.google.colaboratory.intrinsic+json": {
              "type": "string"
            },
            "text/plain": [
              "'/content/drive/My Drive/covid_data'"
            ]
          },
          "metadata": {
            "tags": []
          },
          "execution_count": 10
        }
      ]
    },
    {
      "cell_type": "code",
      "metadata": {
        "id": "raEUfAfUgUQo"
      },
      "source": [
        "#matplotlib inline\n",
        "# 가설 1. 코로나 발생 이후로 연령별 cgi 평균수치가 가장높은 품목이 달라졌을 것이다."
      ],
      "execution_count": null,
      "outputs": []
    },
    {
      "cell_type": "code",
      "metadata": {
        "id": "EadHzN5dbwp5",
        "colab": {
          "base_uri": "https://localhost:8080/",
          "height": 299
        },
        "outputId": "8ce2ed65-3da8-43a2-95b3-1a849d2fc060"
      },
      "source": [
        "delivery = pd.read_csv(\"./delivery.csv\")\n",
        "delivery.head()"
      ],
      "execution_count": null,
      "outputs": [
        {
          "output_type": "execute_result",
          "data": {
            "text/html": [
              "<div>\n",
              "<style scoped>\n",
              "    .dataframe tbody tr th:only-of-type {\n",
              "        vertical-align: middle;\n",
              "    }\n",
              "\n",
              "    .dataframe tbody tr th {\n",
              "        vertical-align: top;\n",
              "    }\n",
              "\n",
              "    .dataframe thead th {\n",
              "        text-align: right;\n",
              "    }\n",
              "</style>\n",
              "<table border=\"1\" class=\"dataframe\">\n",
              "  <thead>\n",
              "    <tr style=\"text-align: right;\">\n",
              "      <th></th>\n",
              "      <th>SERIAL_NUMBER</th>\n",
              "      <th>PROCESS_DT</th>\n",
              "      <th>DLVR_RQESTER_ID</th>\n",
              "      <th>DLVR_REQUST_STTUS_VALUE</th>\n",
              "      <th>DLVR_RCEPT_CMPNY_ID</th>\n",
              "      <th>DLVR_STORE_ID</th>\n",
              "      <th>DLVR_STORE_INDUTY_NM</th>\n",
              "      <th>DLVR_STORE_LEGALDONG_CODE</th>\n",
              "      <th>DLVR_STORE_SIDO</th>\n",
              "      <th>DLVR_STORE_SIGUNGU</th>\n",
              "      <th>DLVR_STORE_DONG</th>\n",
              "      <th>DLVR_STORE_RI</th>\n",
              "      <th>DLVR_STORE_ADSTRD_CODE</th>\n",
              "      <th>DLVR_STORE_RDNMADR_CODE</th>\n",
              "      <th>DLVR_DSTN_LEGALDONG_CODE</th>\n",
              "      <th>DLVR_DSTN_SIDO</th>\n",
              "      <th>DLVR_DSTN_SIGUNGU</th>\n",
              "      <th>DLVR_DSTN_DONG</th>\n",
              "      <th>DLVR_DSTN_RI</th>\n",
              "      <th>DLVR_DSTN_ADSTRD_CODE</th>\n",
              "      <th>DLVR_DSTN_RDNMADR_CODE</th>\n",
              "      <th>DLVR_MAN_ID</th>\n",
              "      <th>DLVR_AMOUNT</th>\n",
              "      <th>CALL_RLAY_FEE_AMOUNT</th>\n",
              "      <th>GOODS_AMOUNT</th>\n",
              "      <th>SETLE_KND_VALUE</th>\n",
              "      <th>SETLE_CARD_CN</th>\n",
              "      <th>DLVR_RCEPT_TIME</th>\n",
              "      <th>DLVR_CARALC_TIME</th>\n",
              "      <th>DLVR_COMPT_TIME</th>\n",
              "      <th>DLVR_CANCL_TIME</th>\n",
              "    </tr>\n",
              "  </thead>\n",
              "  <tbody>\n",
              "    <tr>\n",
              "      <th>0</th>\n",
              "      <td>4577985</td>\n",
              "      <td>2020-01-01</td>\n",
              "      <td>C000035</td>\n",
              "      <td>1</td>\n",
              "      <td>C000035</td>\n",
              "      <td>S0032342</td>\n",
              "      <td>치킨</td>\n",
              "      <td>4812710600</td>\n",
              "      <td>경상남도</td>\n",
              "      <td>창원시 마산회원구</td>\n",
              "      <td>합성동</td>\n",
              "      <td>NaN</td>\n",
              "      <td>4812759000</td>\n",
              "      <td>4.812748e+11</td>\n",
              "      <td>4.812710e+09</td>\n",
              "      <td>경상남도</td>\n",
              "      <td>창원시 마산회원구</td>\n",
              "      <td>석전동</td>\n",
              "      <td>NaN</td>\n",
              "      <td>4.812754e+09</td>\n",
              "      <td>4.812748e+11</td>\n",
              "      <td>D0005271</td>\n",
              "      <td>4290</td>\n",
              "      <td>300</td>\n",
              "      <td>25000</td>\n",
              "      <td>1</td>\n",
              "      <td>승인:비씨카드사</td>\n",
              "      <td>2020-01-01 00:15:49</td>\n",
              "      <td>2020-01-01 00:21:38</td>\n",
              "      <td>2020-01-01 00:41:37</td>\n",
              "      <td>NaN</td>\n",
              "    </tr>\n",
              "    <tr>\n",
              "      <th>1</th>\n",
              "      <td>4577986</td>\n",
              "      <td>2020-01-01</td>\n",
              "      <td>C000237</td>\n",
              "      <td>1</td>\n",
              "      <td>C000237</td>\n",
              "      <td>S0021847</td>\n",
              "      <td>찜탕</td>\n",
              "      <td>4121010200</td>\n",
              "      <td>경기도</td>\n",
              "      <td>광명시</td>\n",
              "      <td>철산동</td>\n",
              "      <td>NaN</td>\n",
              "      <td>4121061000</td>\n",
              "      <td>4.121030e+11</td>\n",
              "      <td>1.154510e+09</td>\n",
              "      <td>서울특별시</td>\n",
              "      <td>금천구</td>\n",
              "      <td>가산동</td>\n",
              "      <td>NaN</td>\n",
              "      <td>1.154551e+09</td>\n",
              "      <td>1.154531e+11</td>\n",
              "      <td>D0003269</td>\n",
              "      <td>4800</td>\n",
              "      <td>200</td>\n",
              "      <td>49000</td>\n",
              "      <td>2</td>\n",
              "      <td>NaN</td>\n",
              "      <td>2020-01-01 01:12:14</td>\n",
              "      <td>2020-01-01 01:21:41</td>\n",
              "      <td>2020-01-01 01:31:44</td>\n",
              "      <td>NaN</td>\n",
              "    </tr>\n",
              "    <tr>\n",
              "      <th>2</th>\n",
              "      <td>4577988</td>\n",
              "      <td>2020-01-01</td>\n",
              "      <td>C000129</td>\n",
              "      <td>1</td>\n",
              "      <td>C000129</td>\n",
              "      <td>S0025740</td>\n",
              "      <td>치킨</td>\n",
              "      <td>1138010400</td>\n",
              "      <td>서울특별시</td>\n",
              "      <td>은평구</td>\n",
              "      <td>갈현동</td>\n",
              "      <td>NaN</td>\n",
              "      <td>1138055100</td>\n",
              "      <td>1.138041e+11</td>\n",
              "      <td>1.138010e+09</td>\n",
              "      <td>서울특별시</td>\n",
              "      <td>은평구</td>\n",
              "      <td>갈현동</td>\n",
              "      <td>NaN</td>\n",
              "      <td>1.138055e+09</td>\n",
              "      <td>1.138041e+11</td>\n",
              "      <td>D0001536</td>\n",
              "      <td>3300</td>\n",
              "      <td>300</td>\n",
              "      <td>23000</td>\n",
              "      <td>3</td>\n",
              "      <td>승인:</td>\n",
              "      <td>2020-01-01 00:01:14</td>\n",
              "      <td>2020-01-01 00:01:47</td>\n",
              "      <td>2020-01-01 00:18:47</td>\n",
              "      <td>NaN</td>\n",
              "    </tr>\n",
              "    <tr>\n",
              "      <th>3</th>\n",
              "      <td>4577989</td>\n",
              "      <td>2020-01-01</td>\n",
              "      <td>C000029</td>\n",
              "      <td>1</td>\n",
              "      <td>C000043</td>\n",
              "      <td>S0039634</td>\n",
              "      <td>한식</td>\n",
              "      <td>4115010100</td>\n",
              "      <td>경기도</td>\n",
              "      <td>의정부시</td>\n",
              "      <td>의정부동</td>\n",
              "      <td>NaN</td>\n",
              "      <td>4115051000</td>\n",
              "      <td>4.115043e+11</td>\n",
              "      <td>4.115010e+09</td>\n",
              "      <td>경기도</td>\n",
              "      <td>의정부시</td>\n",
              "      <td>의정부동</td>\n",
              "      <td>NaN</td>\n",
              "      <td>4.115051e+09</td>\n",
              "      <td>4.115043e+11</td>\n",
              "      <td>D0005061</td>\n",
              "      <td>4500</td>\n",
              "      <td>300</td>\n",
              "      <td>20000</td>\n",
              "      <td>2</td>\n",
              "      <td>NaN</td>\n",
              "      <td>2020-01-01 01:01:34</td>\n",
              "      <td>2020-01-01 01:28:06</td>\n",
              "      <td>2020-01-01 01:36:48</td>\n",
              "      <td>NaN</td>\n",
              "    </tr>\n",
              "    <tr>\n",
              "      <th>4</th>\n",
              "      <td>4577991</td>\n",
              "      <td>2020-01-01</td>\n",
              "      <td>C000130</td>\n",
              "      <td>1</td>\n",
              "      <td>C000130</td>\n",
              "      <td>S0002237</td>\n",
              "      <td>한식</td>\n",
              "      <td>4128112800</td>\n",
              "      <td>경기도</td>\n",
              "      <td>고양시 덕양구</td>\n",
              "      <td>행신동</td>\n",
              "      <td>NaN</td>\n",
              "      <td>4128164000</td>\n",
              "      <td>4.128144e+11</td>\n",
              "      <td>4.128110e+09</td>\n",
              "      <td>경기도</td>\n",
              "      <td>고양시 덕양구</td>\n",
              "      <td>주교동</td>\n",
              "      <td>NaN</td>\n",
              "      <td>4.128151e+09</td>\n",
              "      <td>4.128144e+11</td>\n",
              "      <td>D0005215</td>\n",
              "      <td>6500</td>\n",
              "      <td>300</td>\n",
              "      <td>32000</td>\n",
              "      <td>2</td>\n",
              "      <td>NaN</td>\n",
              "      <td>2020-01-01 01:05:06</td>\n",
              "      <td>2020-01-01 01:08:01</td>\n",
              "      <td>2020-01-01 01:29:00</td>\n",
              "      <td>NaN</td>\n",
              "    </tr>\n",
              "  </tbody>\n",
              "</table>\n",
              "</div>"
            ],
            "text/plain": [
              "   SERIAL_NUMBER  PROCESS_DT  ...      DLVR_COMPT_TIME  DLVR_CANCL_TIME\n",
              "0        4577985  2020-01-01  ...  2020-01-01 00:41:37              NaN\n",
              "1        4577986  2020-01-01  ...  2020-01-01 01:31:44              NaN\n",
              "2        4577988  2020-01-01  ...  2020-01-01 00:18:47              NaN\n",
              "3        4577989  2020-01-01  ...  2020-01-01 01:36:48              NaN\n",
              "4        4577991  2020-01-01  ...  2020-01-01 01:29:00              NaN\n",
              "\n",
              "[5 rows x 31 columns]"
            ]
          },
          "metadata": {
            "tags": []
          },
          "execution_count": 11
        }
      ]
    },
    {
      "cell_type": "code",
      "metadata": {
        "colab": {
          "base_uri": "https://localhost:8080/",
          "height": 195
        },
        "id": "FTdJPC1omOjo",
        "outputId": "10880ee4-72f8-4003-9523-0c4eb50333cd"
      },
      "source": [
        "time = pd.read_csv(\"./COVID_19/Time.csv\")\n",
        "time.head()"
      ],
      "execution_count": null,
      "outputs": [
        {
          "output_type": "execute_result",
          "data": {
            "text/html": [
              "<div>\n",
              "<style scoped>\n",
              "    .dataframe tbody tr th:only-of-type {\n",
              "        vertical-align: middle;\n",
              "    }\n",
              "\n",
              "    .dataframe tbody tr th {\n",
              "        vertical-align: top;\n",
              "    }\n",
              "\n",
              "    .dataframe thead th {\n",
              "        text-align: right;\n",
              "    }\n",
              "</style>\n",
              "<table border=\"1\" class=\"dataframe\">\n",
              "  <thead>\n",
              "    <tr style=\"text-align: right;\">\n",
              "      <th></th>\n",
              "      <th>date</th>\n",
              "      <th>time</th>\n",
              "      <th>test</th>\n",
              "      <th>negative</th>\n",
              "      <th>confirmed</th>\n",
              "      <th>released</th>\n",
              "      <th>deceased</th>\n",
              "    </tr>\n",
              "  </thead>\n",
              "  <tbody>\n",
              "    <tr>\n",
              "      <th>0</th>\n",
              "      <td>2020-01-20</td>\n",
              "      <td>16</td>\n",
              "      <td>1</td>\n",
              "      <td>0</td>\n",
              "      <td>1</td>\n",
              "      <td>0</td>\n",
              "      <td>0</td>\n",
              "    </tr>\n",
              "    <tr>\n",
              "      <th>1</th>\n",
              "      <td>2020-01-21</td>\n",
              "      <td>16</td>\n",
              "      <td>1</td>\n",
              "      <td>0</td>\n",
              "      <td>1</td>\n",
              "      <td>0</td>\n",
              "      <td>0</td>\n",
              "    </tr>\n",
              "    <tr>\n",
              "      <th>2</th>\n",
              "      <td>2020-01-22</td>\n",
              "      <td>16</td>\n",
              "      <td>4</td>\n",
              "      <td>3</td>\n",
              "      <td>1</td>\n",
              "      <td>0</td>\n",
              "      <td>0</td>\n",
              "    </tr>\n",
              "    <tr>\n",
              "      <th>3</th>\n",
              "      <td>2020-01-23</td>\n",
              "      <td>16</td>\n",
              "      <td>22</td>\n",
              "      <td>21</td>\n",
              "      <td>1</td>\n",
              "      <td>0</td>\n",
              "      <td>0</td>\n",
              "    </tr>\n",
              "    <tr>\n",
              "      <th>4</th>\n",
              "      <td>2020-01-24</td>\n",
              "      <td>16</td>\n",
              "      <td>27</td>\n",
              "      <td>25</td>\n",
              "      <td>2</td>\n",
              "      <td>0</td>\n",
              "      <td>0</td>\n",
              "    </tr>\n",
              "  </tbody>\n",
              "</table>\n",
              "</div>"
            ],
            "text/plain": [
              "         date  time  test  negative  confirmed  released  deceased\n",
              "0  2020-01-20    16     1         0          1         0         0\n",
              "1  2020-01-21    16     1         0          1         0         0\n",
              "2  2020-01-22    16     4         3          1         0         0\n",
              "3  2020-01-23    16    22        21          1         0         0\n",
              "4  2020-01-24    16    27        25          2         0         0"
            ]
          },
          "metadata": {
            "tags": []
          },
          "execution_count": 12
        }
      ]
    },
    {
      "cell_type": "code",
      "metadata": {
        "colab": {
          "base_uri": "https://localhost:8080/",
          "height": 195
        },
        "id": "AoyKtsy9kI7P",
        "outputId": "aafda74d-66dc-4ce6-b209-0fd2a7fffc8a"
      },
      "source": [
        "index = pd.read_csv(\"./index.csv\")\n",
        "index.head()"
      ],
      "execution_count": null,
      "outputs": [
        {
          "output_type": "execute_result",
          "data": {
            "text/html": [
              "<div>\n",
              "<style scoped>\n",
              "    .dataframe tbody tr th:only-of-type {\n",
              "        vertical-align: middle;\n",
              "    }\n",
              "\n",
              "    .dataframe tbody tr th {\n",
              "        vertical-align: top;\n",
              "    }\n",
              "\n",
              "    .dataframe thead th {\n",
              "        text-align: right;\n",
              "    }\n",
              "</style>\n",
              "<table border=\"1\" class=\"dataframe\">\n",
              "  <thead>\n",
              "    <tr style=\"text-align: right;\">\n",
              "      <th></th>\n",
              "      <th>period</th>\n",
              "      <th>catl</th>\n",
              "      <th>catm</th>\n",
              "      <th>age</th>\n",
              "      <th>gender</th>\n",
              "      <th>sido</th>\n",
              "      <th>sigungu</th>\n",
              "      <th>cgi</th>\n",
              "    </tr>\n",
              "  </thead>\n",
              "  <tbody>\n",
              "    <tr>\n",
              "      <th>0</th>\n",
              "      <td>201901</td>\n",
              "      <td>건강/의료용품</td>\n",
              "      <td>건강관리용품</td>\n",
              "      <td>20</td>\n",
              "      <td>F</td>\n",
              "      <td>서울</td>\n",
              "      <td>관악구</td>\n",
              "      <td>115.374642</td>\n",
              "    </tr>\n",
              "    <tr>\n",
              "      <th>1</th>\n",
              "      <td>201901</td>\n",
              "      <td>건강/의료용품</td>\n",
              "      <td>건강관리용품</td>\n",
              "      <td>20</td>\n",
              "      <td>F</td>\n",
              "      <td>서울</td>\n",
              "      <td>광진구</td>\n",
              "      <td>119.596454</td>\n",
              "    </tr>\n",
              "    <tr>\n",
              "      <th>2</th>\n",
              "      <td>201901</td>\n",
              "      <td>건강/의료용품</td>\n",
              "      <td>건강관리용품</td>\n",
              "      <td>20</td>\n",
              "      <td>F</td>\n",
              "      <td>서울</td>\n",
              "      <td>도봉구</td>\n",
              "      <td>156.992847</td>\n",
              "    </tr>\n",
              "    <tr>\n",
              "      <th>3</th>\n",
              "      <td>201901</td>\n",
              "      <td>건강/의료용품</td>\n",
              "      <td>건강관리용품</td>\n",
              "      <td>20</td>\n",
              "      <td>F</td>\n",
              "      <td>서울</td>\n",
              "      <td>동작구</td>\n",
              "      <td>58.342726</td>\n",
              "    </tr>\n",
              "    <tr>\n",
              "      <th>4</th>\n",
              "      <td>201901</td>\n",
              "      <td>건강/의료용품</td>\n",
              "      <td>건강관리용품</td>\n",
              "      <td>20</td>\n",
              "      <td>F</td>\n",
              "      <td>서울</td>\n",
              "      <td>마포구</td>\n",
              "      <td>145.147595</td>\n",
              "    </tr>\n",
              "  </tbody>\n",
              "</table>\n",
              "</div>"
            ],
            "text/plain": [
              "   period     catl    catm age gender sido sigungu         cgi\n",
              "0  201901  건강/의료용품  건강관리용품  20      F   서울     관악구  115.374642\n",
              "1  201901  건강/의료용품  건강관리용품  20      F   서울     광진구  119.596454\n",
              "2  201901  건강/의료용품  건강관리용품  20      F   서울     도봉구  156.992847\n",
              "3  201901  건강/의료용품  건강관리용품  20      F   서울     동작구   58.342726\n",
              "4  201901  건강/의료용품  건강관리용품  20      F   서울     마포구  145.147595"
            ]
          },
          "metadata": {
            "tags": []
          },
          "execution_count": 13
        }
      ]
    },
    {
      "cell_type": "code",
      "metadata": {
        "id": "yNsyng8J7Rx0"
      },
      "source": [
        "# date별 코로나 확진자 수"
      ],
      "execution_count": null,
      "outputs": []
    },
    {
      "cell_type": "code",
      "metadata": {
        "colab": {
          "base_uri": "https://localhost:8080/",
          "height": 314
        },
        "id": "j7OhEz-mgX-2",
        "outputId": "b06a35df-cf46-48b3-9d7c-45f68de8e381"
      },
      "source": [
        "time.date = pd.to_datetime(time.date)\n",
        "sns.lineplot(x=\"date\", y=\"confirmed\", data = time)\n",
        "plt.title(\"Confirmed by date\")"
      ],
      "execution_count": null,
      "outputs": [
        {
          "output_type": "execute_result",
          "data": {
            "text/plain": [
              "Text(0.5, 1.0, 'Confirmed by date')"
            ]
          },
          "metadata": {
            "tags": []
          },
          "execution_count": 14
        },
        {
          "output_type": "display_data",
          "data": {
            "image/png": "[encoded data removed]",
            "text/plain": [
              "<Figure size 432x288 with 1 Axes>"
            ]
          },
          "metadata": {
            "tags": [],
            "needs_background": "light"
          }
        }
      ]
    },
    {
      "cell_type": "code",
      "metadata": {
        "id": "PUH-PwPFkWoP"
      },
      "source": [
        "# 코로나 이전(2019년) 연령대별 cgi 평균 수치가 가장 높은 품목"
      ],
      "execution_count": null,
      "outputs": []
    },
    {
      "cell_type": "code",
      "metadata": {
        "colab": {
          "base_uri": "https://localhost:8080/"
        },
        "id": "q8gL2e0hOvsk",
        "outputId": "87c9ba16-ce1a-4fe5-e417-c84d17b6769a"
      },
      "source": [
        "#2019년의 데이터만 뽑기 위해 마지막 달인 12월까지 몇행인지 도출\n",
        "np.where(index.period == 201912)"
      ],
      "execution_count": null,
      "outputs": [
        {
          "output_type": "execute_result",
          "data": {
            "text/plain": [
              "(array([82608, 82609, 82610, ..., 90125, 90126, 90127]),)"
            ]
          },
          "metadata": {
            "tags": []
          },
          "execution_count": 15
        }
      ]
    },
    {
      "cell_type": "code",
      "metadata": {
        "id": "UfxRkEpBWZ3s"
      },
      "source": [
        "#다시, year이라는 컬럼을 추가해 년만 표시되게 하기"
      ],
      "execution_count": null,
      "outputs": []
    },
    {
      "cell_type": "code",
      "metadata": {
        "id": "ugyF9-YeSmA3"
      },
      "source": [
        "period_list = index.period.astype(str).tolist()"
      ],
      "execution_count": null,
      "outputs": []
    },
    {
      "cell_type": "code",
      "metadata": {
        "id": "rGw689CobvOr"
      },
      "source": [
        "year_list = []\n",
        "for i in period_list:\n",
        "    year_list.append(i[0:4])"
      ],
      "execution_count": null,
      "outputs": []
    },
    {
      "cell_type": "code",
      "metadata": {
        "colab": {
          "base_uri": "https://localhost:8080/",
          "height": 402
        },
        "id": "twuAVK_0b4Jh",
        "outputId": "2d94c4b2-e8f4-4378-9c93-630041df0b50"
      },
      "source": [
        "index[\"year\"] = year_list\n",
        "index"
      ],
      "execution_count": null,
      "outputs": [
        {
          "output_type": "execute_result",
          "data": {
            "text/html": [
              "<div>\n",
              "<style scoped>\n",
              "    .dataframe tbody tr th:only-of-type {\n",
              "        vertical-align: middle;\n",
              "    }\n",
              "\n",
              "    .dataframe tbody tr th {\n",
              "        vertical-align: top;\n",
              "    }\n",
              "\n",
              "    .dataframe thead th {\n",
              "        text-align: right;\n",
              "    }\n",
              "</style>\n",
              "<table border=\"1\" class=\"dataframe\">\n",
              "  <thead>\n",
              "    <tr style=\"text-align: right;\">\n",
              "      <th></th>\n",
              "      <th>period</th>\n",
              "      <th>catl</th>\n",
              "      <th>catm</th>\n",
              "      <th>age</th>\n",
              "      <th>gender</th>\n",
              "      <th>sido</th>\n",
              "      <th>sigungu</th>\n",
              "      <th>cgi</th>\n",
              "      <th>year</th>\n",
              "    </tr>\n",
              "  </thead>\n",
              "  <tbody>\n",
              "    <tr>\n",
              "      <th>0</th>\n",
              "      <td>201901</td>\n",
              "      <td>건강/의료용품</td>\n",
              "      <td>건강관리용품</td>\n",
              "      <td>20</td>\n",
              "      <td>F</td>\n",
              "      <td>서울</td>\n",
              "      <td>관악구</td>\n",
              "      <td>115.374642</td>\n",
              "      <td>2019</td>\n",
              "    </tr>\n",
              "    <tr>\n",
              "      <th>1</th>\n",
              "      <td>201901</td>\n",
              "      <td>건강/의료용품</td>\n",
              "      <td>건강관리용품</td>\n",
              "      <td>20</td>\n",
              "      <td>F</td>\n",
              "      <td>서울</td>\n",
              "      <td>광진구</td>\n",
              "      <td>119.596454</td>\n",
              "      <td>2019</td>\n",
              "    </tr>\n",
              "    <tr>\n",
              "      <th>2</th>\n",
              "      <td>201901</td>\n",
              "      <td>건강/의료용품</td>\n",
              "      <td>건강관리용품</td>\n",
              "      <td>20</td>\n",
              "      <td>F</td>\n",
              "      <td>서울</td>\n",
              "      <td>도봉구</td>\n",
              "      <td>156.992847</td>\n",
              "      <td>2019</td>\n",
              "    </tr>\n",
              "    <tr>\n",
              "      <th>3</th>\n",
              "      <td>201901</td>\n",
              "      <td>건강/의료용품</td>\n",
              "      <td>건강관리용품</td>\n",
              "      <td>20</td>\n",
              "      <td>F</td>\n",
              "      <td>서울</td>\n",
              "      <td>동작구</td>\n",
              "      <td>58.342726</td>\n",
              "      <td>2019</td>\n",
              "    </tr>\n",
              "    <tr>\n",
              "      <th>4</th>\n",
              "      <td>201901</td>\n",
              "      <td>건강/의료용품</td>\n",
              "      <td>건강관리용품</td>\n",
              "      <td>20</td>\n",
              "      <td>F</td>\n",
              "      <td>서울</td>\n",
              "      <td>마포구</td>\n",
              "      <td>145.147595</td>\n",
              "      <td>2019</td>\n",
              "    </tr>\n",
              "    <tr>\n",
              "      <th>...</th>\n",
              "      <td>...</td>\n",
              "      <td>...</td>\n",
              "      <td>...</td>\n",
              "      <td>...</td>\n",
              "      <td>...</td>\n",
              "      <td>...</td>\n",
              "      <td>...</td>\n",
              "      <td>...</td>\n",
              "      <td>...</td>\n",
              "    </tr>\n",
              "    <tr>\n",
              "      <th>127520</th>\n",
              "      <td>202005</td>\n",
              "      <td>화장품</td>\n",
              "      <td>화장품</td>\n",
              "      <td>all</td>\n",
              "      <td>all</td>\n",
              "      <td>서울</td>\n",
              "      <td>강서구</td>\n",
              "      <td>51.365660</td>\n",
              "      <td>2020</td>\n",
              "    </tr>\n",
              "    <tr>\n",
              "      <th>127521</th>\n",
              "      <td>202005</td>\n",
              "      <td>화장품</td>\n",
              "      <td>화장품</td>\n",
              "      <td>all</td>\n",
              "      <td>all</td>\n",
              "      <td>서울</td>\n",
              "      <td>관악구</td>\n",
              "      <td>61.997865</td>\n",
              "      <td>2020</td>\n",
              "    </tr>\n",
              "    <tr>\n",
              "      <th>127522</th>\n",
              "      <td>202005</td>\n",
              "      <td>화장품</td>\n",
              "      <td>화장품</td>\n",
              "      <td>all</td>\n",
              "      <td>all</td>\n",
              "      <td>서울</td>\n",
              "      <td>금천구</td>\n",
              "      <td>82.198402</td>\n",
              "      <td>2020</td>\n",
              "    </tr>\n",
              "    <tr>\n",
              "      <th>127523</th>\n",
              "      <td>202005</td>\n",
              "      <td>화장품</td>\n",
              "      <td>화장품</td>\n",
              "      <td>all</td>\n",
              "      <td>all</td>\n",
              "      <td>서울</td>\n",
              "      <td>도봉구</td>\n",
              "      <td>35.875600</td>\n",
              "      <td>2020</td>\n",
              "    </tr>\n",
              "    <tr>\n",
              "      <th>127524</th>\n",
              "      <td>202005</td>\n",
              "      <td>화장품</td>\n",
              "      <td>화장품</td>\n",
              "      <td>all</td>\n",
              "      <td>all</td>\n",
              "      <td>서울</td>\n",
              "      <td>용산구</td>\n",
              "      <td>45.569377</td>\n",
              "      <td>2020</td>\n",
              "    </tr>\n",
              "  </tbody>\n",
              "</table>\n",
              "<p>127525 rows × 9 columns</p>\n",
              "</div>"
            ],
            "text/plain": [
              "        period     catl    catm  age gender sido sigungu         cgi  year\n",
              "0       201901  건강/의료용품  건강관리용품   20      F   서울     관악구  115.374642  2019\n",
              "1       201901  건강/의료용품  건강관리용품   20      F   서울     광진구  119.596454  2019\n",
              "2       201901  건강/의료용품  건강관리용품   20      F   서울     도봉구  156.992847  2019\n",
              "3       201901  건강/의료용품  건강관리용품   20      F   서울     동작구   58.342726  2019\n",
              "4       201901  건강/의료용품  건강관리용품   20      F   서울     마포구  145.147595  2019\n",
              "...        ...      ...     ...  ...    ...  ...     ...         ...   ...\n",
              "127520  202005      화장품     화장품  all    all   서울     강서구   51.365660  2020\n",
              "127521  202005      화장품     화장품  all    all   서울     관악구   61.997865  2020\n",
              "127522  202005      화장품     화장품  all    all   서울     금천구   82.198402  2020\n",
              "127523  202005      화장품     화장품  all    all   서울     도봉구   35.875600  2020\n",
              "127524  202005      화장품     화장품  all    all   서울     용산구   45.569377  2020\n",
              "\n",
              "[127525 rows x 9 columns]"
            ]
          },
          "metadata": {
            "tags": []
          },
          "execution_count": 18
        }
      ]
    },
    {
      "cell_type": "code",
      "metadata": {
        "id": "t4Zx0Da-psw1"
      },
      "source": [
        "#코로나 이전(2019년) 데이터만 뽑기 위해 조건 설정"
      ],
      "execution_count": null,
      "outputs": []
    },
    {
      "cell_type": "code",
      "metadata": {
        "colab": {
          "base_uri": "https://localhost:8080/",
          "height": 402
        },
        "id": "ftTonCUMhk79",
        "outputId": "f240bca2-fcbc-4294-aa87-0cdd1bba0153"
      },
      "source": [
        "last_year = index[index[\"year\"] == '2019']\n",
        "last_year"
      ],
      "execution_count": null,
      "outputs": [
        {
          "output_type": "execute_result",
          "data": {
            "text/html": [
              "<div>\n",
              "<style scoped>\n",
              "    .dataframe tbody tr th:only-of-type {\n",
              "        vertical-align: middle;\n",
              "    }\n",
              "\n",
              "    .dataframe tbody tr th {\n",
              "        vertical-align: top;\n",
              "    }\n",
              "\n",
              "    .dataframe thead th {\n",
              "        text-align: right;\n",
              "    }\n",
              "</style>\n",
              "<table border=\"1\" class=\"dataframe\">\n",
              "  <thead>\n",
              "    <tr style=\"text-align: right;\">\n",
              "      <th></th>\n",
              "      <th>period</th>\n",
              "      <th>catl</th>\n",
              "      <th>catm</th>\n",
              "      <th>age</th>\n",
              "      <th>gender</th>\n",
              "      <th>sido</th>\n",
              "      <th>sigungu</th>\n",
              "      <th>cgi</th>\n",
              "      <th>year</th>\n",
              "    </tr>\n",
              "  </thead>\n",
              "  <tbody>\n",
              "    <tr>\n",
              "      <th>0</th>\n",
              "      <td>201901</td>\n",
              "      <td>건강/의료용품</td>\n",
              "      <td>건강관리용품</td>\n",
              "      <td>20</td>\n",
              "      <td>F</td>\n",
              "      <td>서울</td>\n",
              "      <td>관악구</td>\n",
              "      <td>115.374642</td>\n",
              "      <td>2019</td>\n",
              "    </tr>\n",
              "    <tr>\n",
              "      <th>1</th>\n",
              "      <td>201901</td>\n",
              "      <td>건강/의료용품</td>\n",
              "      <td>건강관리용품</td>\n",
              "      <td>20</td>\n",
              "      <td>F</td>\n",
              "      <td>서울</td>\n",
              "      <td>광진구</td>\n",
              "      <td>119.596454</td>\n",
              "      <td>2019</td>\n",
              "    </tr>\n",
              "    <tr>\n",
              "      <th>2</th>\n",
              "      <td>201901</td>\n",
              "      <td>건강/의료용품</td>\n",
              "      <td>건강관리용품</td>\n",
              "      <td>20</td>\n",
              "      <td>F</td>\n",
              "      <td>서울</td>\n",
              "      <td>도봉구</td>\n",
              "      <td>156.992847</td>\n",
              "      <td>2019</td>\n",
              "    </tr>\n",
              "    <tr>\n",
              "      <th>3</th>\n",
              "      <td>201901</td>\n",
              "      <td>건강/의료용품</td>\n",
              "      <td>건강관리용품</td>\n",
              "      <td>20</td>\n",
              "      <td>F</td>\n",
              "      <td>서울</td>\n",
              "      <td>동작구</td>\n",
              "      <td>58.342726</td>\n",
              "      <td>2019</td>\n",
              "    </tr>\n",
              "    <tr>\n",
              "      <th>4</th>\n",
              "      <td>201901</td>\n",
              "      <td>건강/의료용품</td>\n",
              "      <td>건강관리용품</td>\n",
              "      <td>20</td>\n",
              "      <td>F</td>\n",
              "      <td>서울</td>\n",
              "      <td>마포구</td>\n",
              "      <td>145.147595</td>\n",
              "      <td>2019</td>\n",
              "    </tr>\n",
              "    <tr>\n",
              "      <th>...</th>\n",
              "      <td>...</td>\n",
              "      <td>...</td>\n",
              "      <td>...</td>\n",
              "      <td>...</td>\n",
              "      <td>...</td>\n",
              "      <td>...</td>\n",
              "      <td>...</td>\n",
              "      <td>...</td>\n",
              "      <td>...</td>\n",
              "    </tr>\n",
              "    <tr>\n",
              "      <th>90123</th>\n",
              "      <td>201912</td>\n",
              "      <td>화장품</td>\n",
              "      <td>화장품</td>\n",
              "      <td>all</td>\n",
              "      <td>all</td>\n",
              "      <td>서울</td>\n",
              "      <td>all</td>\n",
              "      <td>72.688013</td>\n",
              "      <td>2019</td>\n",
              "    </tr>\n",
              "    <tr>\n",
              "      <th>90124</th>\n",
              "      <td>201912</td>\n",
              "      <td>화장품</td>\n",
              "      <td>화장품</td>\n",
              "      <td>all</td>\n",
              "      <td>all</td>\n",
              "      <td>서울</td>\n",
              "      <td>강동구</td>\n",
              "      <td>111.745516</td>\n",
              "      <td>2019</td>\n",
              "    </tr>\n",
              "    <tr>\n",
              "      <th>90125</th>\n",
              "      <td>201912</td>\n",
              "      <td>화장품</td>\n",
              "      <td>화장품</td>\n",
              "      <td>all</td>\n",
              "      <td>all</td>\n",
              "      <td>서울</td>\n",
              "      <td>서대문구</td>\n",
              "      <td>24.279394</td>\n",
              "      <td>2019</td>\n",
              "    </tr>\n",
              "    <tr>\n",
              "      <th>90126</th>\n",
              "      <td>201912</td>\n",
              "      <td>화장품</td>\n",
              "      <td>화장품</td>\n",
              "      <td>all</td>\n",
              "      <td>all</td>\n",
              "      <td>서울</td>\n",
              "      <td>서초구</td>\n",
              "      <td>25.715134</td>\n",
              "      <td>2019</td>\n",
              "    </tr>\n",
              "    <tr>\n",
              "      <th>90127</th>\n",
              "      <td>201912</td>\n",
              "      <td>화장품</td>\n",
              "      <td>화장품</td>\n",
              "      <td>all</td>\n",
              "      <td>all</td>\n",
              "      <td>서울</td>\n",
              "      <td>중구</td>\n",
              "      <td>74.841259</td>\n",
              "      <td>2019</td>\n",
              "    </tr>\n",
              "  </tbody>\n",
              "</table>\n",
              "<p>90128 rows × 9 columns</p>\n",
              "</div>"
            ],
            "text/plain": [
              "       period     catl    catm  age gender sido sigungu         cgi  year\n",
              "0      201901  건강/의료용품  건강관리용품   20      F   서울     관악구  115.374642  2019\n",
              "1      201901  건강/의료용품  건강관리용품   20      F   서울     광진구  119.596454  2019\n",
              "2      201901  건강/의료용품  건강관리용품   20      F   서울     도봉구  156.992847  2019\n",
              "3      201901  건강/의료용품  건강관리용품   20      F   서울     동작구   58.342726  2019\n",
              "4      201901  건강/의료용품  건강관리용품   20      F   서울     마포구  145.147595  2019\n",
              "...       ...      ...     ...  ...    ...  ...     ...         ...   ...\n",
              "90123  201912      화장품     화장품  all    all   서울     all   72.688013  2019\n",
              "90124  201912      화장품     화장품  all    all   서울     강동구  111.745516  2019\n",
              "90125  201912      화장품     화장품  all    all   서울    서대문구   24.279394  2019\n",
              "90126  201912      화장품     화장품  all    all   서울     서초구   25.715134  2019\n",
              "90127  201912      화장품     화장품  all    all   서울      중구   74.841259  2019\n",
              "\n",
              "[90128 rows x 9 columns]"
            ]
          },
          "metadata": {
            "tags": []
          },
          "execution_count": 19
        }
      ]
    },
    {
      "cell_type": "code",
      "metadata": {
        "id": "RvBErqX8qKtf"
      },
      "source": [
        "#코로나 이후(2020년) 데이터"
      ],
      "execution_count": null,
      "outputs": []
    },
    {
      "cell_type": "code",
      "metadata": {
        "colab": {
          "base_uri": "https://localhost:8080/",
          "height": 402
        },
        "id": "fECqydLLqB1Z",
        "outputId": "7d1be232-5f9f-420d-e3c5-910ccf352a16"
      },
      "source": [
        "now_year = index[index[\"year\"] == '2020']\n",
        "now_year"
      ],
      "execution_count": null,
      "outputs": [
        {
          "output_type": "execute_result",
          "data": {
            "text/html": [
              "<div>\n",
              "<style scoped>\n",
              "    .dataframe tbody tr th:only-of-type {\n",
              "        vertical-align: middle;\n",
              "    }\n",
              "\n",
              "    .dataframe tbody tr th {\n",
              "        vertical-align: top;\n",
              "    }\n",
              "\n",
              "    .dataframe thead th {\n",
              "        text-align: right;\n",
              "    }\n",
              "</style>\n",
              "<table border=\"1\" class=\"dataframe\">\n",
              "  <thead>\n",
              "    <tr style=\"text-align: right;\">\n",
              "      <th></th>\n",
              "      <th>period</th>\n",
              "      <th>catl</th>\n",
              "      <th>catm</th>\n",
              "      <th>age</th>\n",
              "      <th>gender</th>\n",
              "      <th>sido</th>\n",
              "      <th>sigungu</th>\n",
              "      <th>cgi</th>\n",
              "      <th>year</th>\n",
              "    </tr>\n",
              "  </thead>\n",
              "  <tbody>\n",
              "    <tr>\n",
              "      <th>90128</th>\n",
              "      <td>202001</td>\n",
              "      <td>건강/의료용품</td>\n",
              "      <td>건강관리용품</td>\n",
              "      <td>20</td>\n",
              "      <td>F</td>\n",
              "      <td>서울</td>\n",
              "      <td>all</td>\n",
              "      <td>101.080460</td>\n",
              "      <td>2020</td>\n",
              "    </tr>\n",
              "    <tr>\n",
              "      <th>90129</th>\n",
              "      <td>202001</td>\n",
              "      <td>건강/의료용품</td>\n",
              "      <td>건강관리용품</td>\n",
              "      <td>20</td>\n",
              "      <td>F</td>\n",
              "      <td>서울</td>\n",
              "      <td>강동구</td>\n",
              "      <td>142.598266</td>\n",
              "      <td>2020</td>\n",
              "    </tr>\n",
              "    <tr>\n",
              "      <th>90130</th>\n",
              "      <td>202001</td>\n",
              "      <td>건강/의료용품</td>\n",
              "      <td>건강관리용품</td>\n",
              "      <td>20</td>\n",
              "      <td>F</td>\n",
              "      <td>서울</td>\n",
              "      <td>광진구</td>\n",
              "      <td>92.484593</td>\n",
              "      <td>2020</td>\n",
              "    </tr>\n",
              "    <tr>\n",
              "      <th>90131</th>\n",
              "      <td>202001</td>\n",
              "      <td>건강/의료용품</td>\n",
              "      <td>건강관리용품</td>\n",
              "      <td>20</td>\n",
              "      <td>F</td>\n",
              "      <td>서울</td>\n",
              "      <td>구로구</td>\n",
              "      <td>162.756403</td>\n",
              "      <td>2020</td>\n",
              "    </tr>\n",
              "    <tr>\n",
              "      <th>90132</th>\n",
              "      <td>202001</td>\n",
              "      <td>건강/의료용품</td>\n",
              "      <td>건강관리용품</td>\n",
              "      <td>20</td>\n",
              "      <td>F</td>\n",
              "      <td>서울</td>\n",
              "      <td>양천구</td>\n",
              "      <td>77.568793</td>\n",
              "      <td>2020</td>\n",
              "    </tr>\n",
              "    <tr>\n",
              "      <th>...</th>\n",
              "      <td>...</td>\n",
              "      <td>...</td>\n",
              "      <td>...</td>\n",
              "      <td>...</td>\n",
              "      <td>...</td>\n",
              "      <td>...</td>\n",
              "      <td>...</td>\n",
              "      <td>...</td>\n",
              "      <td>...</td>\n",
              "    </tr>\n",
              "    <tr>\n",
              "      <th>127520</th>\n",
              "      <td>202005</td>\n",
              "      <td>화장품</td>\n",
              "      <td>화장품</td>\n",
              "      <td>all</td>\n",
              "      <td>all</td>\n",
              "      <td>서울</td>\n",
              "      <td>강서구</td>\n",
              "      <td>51.365660</td>\n",
              "      <td>2020</td>\n",
              "    </tr>\n",
              "    <tr>\n",
              "      <th>127521</th>\n",
              "      <td>202005</td>\n",
              "      <td>화장품</td>\n",
              "      <td>화장품</td>\n",
              "      <td>all</td>\n",
              "      <td>all</td>\n",
              "      <td>서울</td>\n",
              "      <td>관악구</td>\n",
              "      <td>61.997865</td>\n",
              "      <td>2020</td>\n",
              "    </tr>\n",
              "    <tr>\n",
              "      <th>127522</th>\n",
              "      <td>202005</td>\n",
              "      <td>화장품</td>\n",
              "      <td>화장품</td>\n",
              "      <td>all</td>\n",
              "      <td>all</td>\n",
              "      <td>서울</td>\n",
              "      <td>금천구</td>\n",
              "      <td>82.198402</td>\n",
              "      <td>2020</td>\n",
              "    </tr>\n",
              "    <tr>\n",
              "      <th>127523</th>\n",
              "      <td>202005</td>\n",
              "      <td>화장품</td>\n",
              "      <td>화장품</td>\n",
              "      <td>all</td>\n",
              "      <td>all</td>\n",
              "      <td>서울</td>\n",
              "      <td>도봉구</td>\n",
              "      <td>35.875600</td>\n",
              "      <td>2020</td>\n",
              "    </tr>\n",
              "    <tr>\n",
              "      <th>127524</th>\n",
              "      <td>202005</td>\n",
              "      <td>화장품</td>\n",
              "      <td>화장품</td>\n",
              "      <td>all</td>\n",
              "      <td>all</td>\n",
              "      <td>서울</td>\n",
              "      <td>용산구</td>\n",
              "      <td>45.569377</td>\n",
              "      <td>2020</td>\n",
              "    </tr>\n",
              "  </tbody>\n",
              "</table>\n",
              "<p>37397 rows × 9 columns</p>\n",
              "</div>"
            ],
            "text/plain": [
              "        period     catl    catm  age gender sido sigungu         cgi  year\n",
              "90128   202001  건강/의료용품  건강관리용품   20      F   서울     all  101.080460  2020\n",
              "90129   202001  건강/의료용품  건강관리용품   20      F   서울     강동구  142.598266  2020\n",
              "90130   202001  건강/의료용품  건강관리용품   20      F   서울     광진구   92.484593  2020\n",
              "90131   202001  건강/의료용품  건강관리용품   20      F   서울     구로구  162.756403  2020\n",
              "90132   202001  건강/의료용품  건강관리용품   20      F   서울     양천구   77.568793  2020\n",
              "...        ...      ...     ...  ...    ...  ...     ...         ...   ...\n",
              "127520  202005      화장품     화장품  all    all   서울     강서구   51.365660  2020\n",
              "127521  202005      화장품     화장품  all    all   서울     관악구   61.997865  2020\n",
              "127522  202005      화장품     화장품  all    all   서울     금천구   82.198402  2020\n",
              "127523  202005      화장품     화장품  all    all   서울     도봉구   35.875600  2020\n",
              "127524  202005      화장품     화장품  all    all   서울     용산구   45.569377  2020\n",
              "\n",
              "[37397 rows x 9 columns]"
            ]
          },
          "metadata": {
            "tags": []
          },
          "execution_count": 20
        }
      ]
    },
    {
      "cell_type": "code",
      "metadata": {
        "id": "TtqSTkHzpdXg"
      },
      "source": [
        "# 2019년의 연령대별 품목별 cgi의 평균값"
      ],
      "execution_count": null,
      "outputs": []
    },
    {
      "cell_type": "code",
      "metadata": {
        "colab": {
          "base_uri": "https://localhost:8080/"
        },
        "id": "QOg4lX6-jF0q",
        "outputId": "beec6dc7-e3c3-4d39-a151-22e1b342ad42"
      },
      "source": [
        "last_mean = last_year.groupby(['year', 'age', 'catl'])['cgi'].mean()\n",
        "last_mean"
      ],
      "execution_count": null,
      "outputs": [
        {
          "output_type": "execute_result",
          "data": {
            "text/plain": [
              "year  age  catl   \n",
              "2019  20   건강/의료용품    129.885245\n",
              "           식품         118.586497\n",
              "           일용품        125.029549\n",
              "           화장품        120.923962\n",
              "      30   건강/의료용품     95.776843\n",
              "           식품         101.027994\n",
              "           일용품         99.908279\n",
              "           화장품         93.591992\n",
              "      40   건강/의료용품    104.186269\n",
              "           식품          99.451845\n",
              "           일용품         96.973864\n",
              "           화장품         88.120565\n",
              "      50   건강/의료용품    104.197599\n",
              "           식품         101.345769\n",
              "           일용품         92.956185\n",
              "           화장품         86.100039\n",
              "      60   건강/의료용품    113.988335\n",
              "           식품         102.282403\n",
              "           일용품        100.047142\n",
              "           화장품         92.799079\n",
              "      all  건강/의료용품    103.287897\n",
              "           식품         101.287899\n",
              "           일용품         95.536417\n",
              "           화장품         87.280067\n",
              "Name: cgi, dtype: float64"
            ]
          },
          "metadata": {
            "tags": []
          },
          "execution_count": 21
        }
      ]
    },
    {
      "cell_type": "code",
      "metadata": {
        "id": "KginSPa16KqV"
      },
      "source": [
        "#2020년의 연령대별 품목별 cgi의 평균값"
      ],
      "execution_count": null,
      "outputs": []
    },
    {
      "cell_type": "code",
      "metadata": {
        "colab": {
          "base_uri": "https://localhost:8080/"
        },
        "id": "yRf41YdQ6MoV",
        "outputId": "702a294c-6e42-4026-cc54-21424536a72d"
      },
      "source": [
        "now_mean = now_year.groupby(['year', 'age', 'catl'])['cgi'].mean()\n",
        "now_mean"
      ],
      "execution_count": null,
      "outputs": [
        {
          "output_type": "execute_result",
          "data": {
            "text/plain": [
              "year  age  catl   \n",
              "2020  20   건강/의료용품    125.643626\n",
              "           식품         112.201102\n",
              "           일용품        104.349345\n",
              "           화장품         94.520504\n",
              "      30   건강/의료용품     85.074590\n",
              "           식품          87.849004\n",
              "           일용품         70.823055\n",
              "           화장품         87.529506\n",
              "      40   건강/의료용품     91.254463\n",
              "           식품          88.175043\n",
              "           일용품         79.965584\n",
              "           화장품         65.652442\n",
              "      50   건강/의료용품     95.223442\n",
              "           식품          91.623447\n",
              "           일용품         76.642391\n",
              "           화장품         70.240234\n",
              "      60   건강/의료용품     93.147133\n",
              "           식품          91.330089\n",
              "           일용품         86.947310\n",
              "           화장품         79.629638\n",
              "      all  건강/의료용품     91.544952\n",
              "           식품          89.828966\n",
              "           일용품         78.400660\n",
              "           화장품         72.365893\n",
              "Name: cgi, dtype: float64"
            ]
          },
          "metadata": {
            "tags": []
          },
          "execution_count": 22
        }
      ]
    },
    {
      "cell_type": "code",
      "metadata": {
        "id": "px0X_fKoxQaZ"
      },
      "source": [
        "#2019년의 연령대별 품목별 cgi평균의 시각화"
      ],
      "execution_count": null,
      "outputs": []
    },
    {
      "cell_type": "code",
      "metadata": {
        "id": "N-gL0xqQhhjC"
      },
      "source": [
        "last_meann = pd.read_csv\n",
        "last_mean.loc[]"
      ],
      "execution_count": null,
      "outputs": []
    },
    {
      "cell_type": "code",
      "metadata": {
        "id": "u8Z2GjG-xX0b"
      },
      "source": [
        "2020년의 연령대별 품목별 cgi의 시각화"
      ],
      "execution_count": null,
      "outputs": []
    }
  ]
}