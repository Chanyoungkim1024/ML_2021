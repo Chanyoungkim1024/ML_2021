{
  "nbformat": 4,
  "nbformat_minor": 0,
  "metadata": {
    "colab": {
      "name": "코로나시각화",
      "provenance": [],
      "mount_file_id": "1PKc49j_kNgyxfXZ9MVWX52LVP6jhNu99",
      "authorship_tag": "ABX9TyMQiNaygBa49EDKlO39DcXQ",
      "include_colab_link": true
    },
    "kernelspec": {
      "name": "python3",
      "display_name": "Python 3"
    },
    "language_info": {
      "name": "python"
    }
  },
  "cells": [
    {
      "cell_type": "markdown",
      "metadata": {
        "id": "view-in-github",
        "colab_type": "text"
      },
      "source": [
        "<a href=\"https://colab.research.google.com/github/Chanyoungkim1024/ML_2021/blob/ML_2021/%EC%BD%94%EB%A1%9C%EB%82%98%EC%8B%9C%EA%B0%81%ED%99%94.ipynb\" target=\"_parent\"><img src=\"https://colab.research.google.com/assets/colab-badge.svg\" alt=\"Open In Colab\"/></a>"
      ]
    },
    {
      "cell_type": "code",
      "metadata": {
        "colab": {
          "base_uri": "https://localhost:8080/"
        },
        "id": "DOoKt-wDYdmH",
        "outputId": "68bf4781-63ef-4ca5-c41f-7b1c409d22df"
      },
      "source": [
        "from google.colab import drive\n",
        "drive.mount('/content/drive')"
      ],
      "execution_count": 1,
      "outputs": [
        {
          "output_type": "stream",
          "text": [
            "Drive already mounted at /content/drive; to attempt to forcibly remount, call drive.mount(\"/content/drive\", force_remount=True).\n"
          ],
          "name": "stdout"
        }
      ]
    },
    {
      "cell_type": "code",
      "metadata": {
        "id": "w2y_ksisaCu2"
      },
      "source": [
        "from google.colab import auth\n",
        "auth.authenticate_user()"
      ],
      "execution_count": 2,
      "outputs": []
    },
    {
      "cell_type": "code",
      "metadata": {
        "id": "JRO7OB8qaNNg"
      },
      "source": [
        "import pandas as pd\n",
        "import numpy as np\n",
        "import matplotlib as mpl\n",
        "import matplotlib.pyplot as plt\n",
        "import seaborn as sns\n",
        "from datetime import datetime"
      ],
      "execution_count": 3,
      "outputs": []
    },
    {
      "cell_type": "code",
      "metadata": {
        "colab": {
          "base_uri": "https://localhost:8080/"
        },
        "id": "YsXzNUV46klh",
        "outputId": "9cdcfef3-0a5c-43f8-bf7a-1d1a39429e34"
      },
      "source": [
        "%config InlineBackend.figure_format = 'retina'\n",
        "\n",
        "!apt -qq -y install fonts-nanum"
      ],
      "execution_count": 4,
      "outputs": [
        {
          "output_type": "stream",
          "text": [
            "fonts-nanum is already the newest version (20170925-1).\n",
            "0 upgraded, 0 newly installed, 0 to remove and 30 not upgraded.\n"
          ],
          "name": "stdout"
        }
      ]
    },
    {
      "cell_type": "code",
      "metadata": {
        "id": "xIt0MmzuSDOk"
      },
      "source": [
        "from matplotlib import font_manager, rc\n",
        "font_manager._rebuild()"
      ],
      "execution_count": 5,
      "outputs": []
    },
    {
      "cell_type": "code",
      "metadata": {
        "id": "WZ6AKclVK65m"
      },
      "source": [
        "font_name = font_manager.FontProperties(fname='/usr/share/fonts/truetype/nanum/NanumGothic.ttf').get_name()\n",
        "rc('font', family=font_name)\n",
        "plt.rc('font', size=12)"
      ],
      "execution_count": 6,
      "outputs": []
    },
    {
      "cell_type": "code",
      "metadata": {
        "colab": {
          "base_uri": "https://localhost:8080/",
          "height": 36
        },
        "id": "cgIa859SfGIR",
        "outputId": "16fc4daf-35cf-4b5e-a72c-9cc344869c83"
      },
      "source": [
        "%pwd"
      ],
      "execution_count": 7,
      "outputs": [
        {
          "output_type": "execute_result",
          "data": {
            "application/vnd.google.colaboratory.intrinsic+json": {
              "type": "string"
            },
            "text/plain": [
              "'/content'"
            ]
          },
          "metadata": {
            "tags": []
          },
          "execution_count": 7
        }
      ]
    },
    {
      "cell_type": "code",
      "metadata": {
        "colab": {
          "base_uri": "https://localhost:8080/"
        },
        "id": "5Fsks5XcfITM",
        "outputId": "301cbc7f-1371-4a41-be54-416763979a8b"
      },
      "source": [
        "%cd /content/drive/"
      ],
      "execution_count": 8,
      "outputs": [
        {
          "output_type": "stream",
          "text": [
            "/content/drive\n"
          ],
          "name": "stdout"
        }
      ]
    },
    {
      "cell_type": "code",
      "metadata": {
        "colab": {
          "base_uri": "https://localhost:8080/"
        },
        "id": "_C3WsvGifvLQ",
        "outputId": "0c15c3ce-b146-4458-a1dd-8eb5db779c76"
      },
      "source": [
        "cd \"MyDrive\""
      ],
      "execution_count": 9,
      "outputs": [
        {
          "output_type": "stream",
          "text": [
            "/content/drive/MyDrive\n"
          ],
          "name": "stdout"
        }
      ]
    },
    {
      "cell_type": "code",
      "metadata": {
        "colab": {
          "base_uri": "https://localhost:8080/"
        },
        "id": "J5OqiJvSfzk_",
        "outputId": "de575c05-ba06-45f9-a649-ef05e3b9b7e7"
      },
      "source": [
        "cd \"covid_data\""
      ],
      "execution_count": 10,
      "outputs": [
        {
          "output_type": "stream",
          "text": [
            "/content/drive/MyDrive/covid_data\n"
          ],
          "name": "stdout"
        }
      ]
    },
    {
      "cell_type": "code",
      "metadata": {
        "colab": {
          "base_uri": "https://localhost:8080/",
          "height": 36
        },
        "id": "J94gCz29f3Jn",
        "outputId": "e229a8f7-25d0-4971-add1-04bb617f6287"
      },
      "source": [
        "%pwd"
      ],
      "execution_count": 11,
      "outputs": [
        {
          "output_type": "execute_result",
          "data": {
            "application/vnd.google.colaboratory.intrinsic+json": {
              "type": "string"
            },
            "text/plain": [
              "'/content/drive/MyDrive/covid_data'"
            ]
          },
          "metadata": {
            "tags": []
          },
          "execution_count": 11
        }
      ]
    },
    {
      "cell_type": "code",
      "metadata": {
        "id": "raEUfAfUgUQo"
      },
      "source": [
        "#matplotlib inline\n",
        "# 1. 코로나 발생 이후, 연령별 카테고리의 cgi 평균수치의 감소가 보일것으로 추측.\n",
        "# 2. 소극적인 소비행태로 인해 cgi 지수 감소도 기록될 것으로 추측."
      ],
      "execution_count": 12,
      "outputs": []
    },
    {
      "cell_type": "code",
      "metadata": {
        "id": "EadHzN5dbwp5",
        "colab": {
          "base_uri": "https://localhost:8080/",
          "height": 299
        },
        "outputId": "fe0e65ba-45d1-4fc5-e1bc-1b9a267a30f0"
      },
      "source": [
        "delivery = pd.read_csv(\"./delivery.csv\")\n",
        "delivery.head()"
      ],
      "execution_count": 13,
      "outputs": [
        {
          "output_type": "execute_result",
          "data": {
            "text/html": [
              "<div>\n",
              "<style scoped>\n",
              "    .dataframe tbody tr th:only-of-type {\n",
              "        vertical-align: middle;\n",
              "    }\n",
              "\n",
              "    .dataframe tbody tr th {\n",
              "        vertical-align: top;\n",
              "    }\n",
              "\n",
              "    .dataframe thead th {\n",
              "        text-align: right;\n",
              "    }\n",
              "</style>\n",
              "<table border=\"1\" class=\"dataframe\">\n",
              "  <thead>\n",
              "    <tr style=\"text-align: right;\">\n",
              "      <th></th>\n",
              "      <th>SERIAL_NUMBER</th>\n",
              "      <th>PROCESS_DT</th>\n",
              "      <th>DLVR_RQESTER_ID</th>\n",
              "      <th>DLVR_REQUST_STTUS_VALUE</th>\n",
              "      <th>DLVR_RCEPT_CMPNY_ID</th>\n",
              "      <th>DLVR_STORE_ID</th>\n",
              "      <th>DLVR_STORE_INDUTY_NM</th>\n",
              "      <th>DLVR_STORE_LEGALDONG_CODE</th>\n",
              "      <th>DLVR_STORE_SIDO</th>\n",
              "      <th>DLVR_STORE_SIGUNGU</th>\n",
              "      <th>DLVR_STORE_DONG</th>\n",
              "      <th>DLVR_STORE_RI</th>\n",
              "      <th>DLVR_STORE_ADSTRD_CODE</th>\n",
              "      <th>DLVR_STORE_RDNMADR_CODE</th>\n",
              "      <th>DLVR_DSTN_LEGALDONG_CODE</th>\n",
              "      <th>DLVR_DSTN_SIDO</th>\n",
              "      <th>DLVR_DSTN_SIGUNGU</th>\n",
              "      <th>DLVR_DSTN_DONG</th>\n",
              "      <th>DLVR_DSTN_RI</th>\n",
              "      <th>DLVR_DSTN_ADSTRD_CODE</th>\n",
              "      <th>DLVR_DSTN_RDNMADR_CODE</th>\n",
              "      <th>DLVR_MAN_ID</th>\n",
              "      <th>DLVR_AMOUNT</th>\n",
              "      <th>CALL_RLAY_FEE_AMOUNT</th>\n",
              "      <th>GOODS_AMOUNT</th>\n",
              "      <th>SETLE_KND_VALUE</th>\n",
              "      <th>SETLE_CARD_CN</th>\n",
              "      <th>DLVR_RCEPT_TIME</th>\n",
              "      <th>DLVR_CARALC_TIME</th>\n",
              "      <th>DLVR_COMPT_TIME</th>\n",
              "      <th>DLVR_CANCL_TIME</th>\n",
              "    </tr>\n",
              "  </thead>\n",
              "  <tbody>\n",
              "    <tr>\n",
              "      <th>0</th>\n",
              "      <td>4577985</td>\n",
              "      <td>2020-01-01</td>\n",
              "      <td>C000035</td>\n",
              "      <td>1</td>\n",
              "      <td>C000035</td>\n",
              "      <td>S0032342</td>\n",
              "      <td>치킨</td>\n",
              "      <td>4812710600</td>\n",
              "      <td>경상남도</td>\n",
              "      <td>창원시 마산회원구</td>\n",
              "      <td>합성동</td>\n",
              "      <td>NaN</td>\n",
              "      <td>4812759000</td>\n",
              "      <td>4.812748e+11</td>\n",
              "      <td>4.812710e+09</td>\n",
              "      <td>경상남도</td>\n",
              "      <td>창원시 마산회원구</td>\n",
              "      <td>석전동</td>\n",
              "      <td>NaN</td>\n",
              "      <td>4.812754e+09</td>\n",
              "      <td>4.812748e+11</td>\n",
              "      <td>D0005271</td>\n",
              "      <td>4290</td>\n",
              "      <td>300</td>\n",
              "      <td>25000</td>\n",
              "      <td>1</td>\n",
              "      <td>승인:비씨카드사</td>\n",
              "      <td>2020-01-01 00:15:49</td>\n",
              "      <td>2020-01-01 00:21:38</td>\n",
              "      <td>2020-01-01 00:41:37</td>\n",
              "      <td>NaN</td>\n",
              "    </tr>\n",
              "    <tr>\n",
              "      <th>1</th>\n",
              "      <td>4577986</td>\n",
              "      <td>2020-01-01</td>\n",
              "      <td>C000237</td>\n",
              "      <td>1</td>\n",
              "      <td>C000237</td>\n",
              "      <td>S0021847</td>\n",
              "      <td>찜탕</td>\n",
              "      <td>4121010200</td>\n",
              "      <td>경기도</td>\n",
              "      <td>광명시</td>\n",
              "      <td>철산동</td>\n",
              "      <td>NaN</td>\n",
              "      <td>4121061000</td>\n",
              "      <td>4.121030e+11</td>\n",
              "      <td>1.154510e+09</td>\n",
              "      <td>서울특별시</td>\n",
              "      <td>금천구</td>\n",
              "      <td>가산동</td>\n",
              "      <td>NaN</td>\n",
              "      <td>1.154551e+09</td>\n",
              "      <td>1.154531e+11</td>\n",
              "      <td>D0003269</td>\n",
              "      <td>4800</td>\n",
              "      <td>200</td>\n",
              "      <td>49000</td>\n",
              "      <td>2</td>\n",
              "      <td>NaN</td>\n",
              "      <td>2020-01-01 01:12:14</td>\n",
              "      <td>2020-01-01 01:21:41</td>\n",
              "      <td>2020-01-01 01:31:44</td>\n",
              "      <td>NaN</td>\n",
              "    </tr>\n",
              "    <tr>\n",
              "      <th>2</th>\n",
              "      <td>4577988</td>\n",
              "      <td>2020-01-01</td>\n",
              "      <td>C000129</td>\n",
              "      <td>1</td>\n",
              "      <td>C000129</td>\n",
              "      <td>S0025740</td>\n",
              "      <td>치킨</td>\n",
              "      <td>1138010400</td>\n",
              "      <td>서울특별시</td>\n",
              "      <td>은평구</td>\n",
              "      <td>갈현동</td>\n",
              "      <td>NaN</td>\n",
              "      <td>1138055100</td>\n",
              "      <td>1.138041e+11</td>\n",
              "      <td>1.138010e+09</td>\n",
              "      <td>서울특별시</td>\n",
              "      <td>은평구</td>\n",
              "      <td>갈현동</td>\n",
              "      <td>NaN</td>\n",
              "      <td>1.138055e+09</td>\n",
              "      <td>1.138041e+11</td>\n",
              "      <td>D0001536</td>\n",
              "      <td>3300</td>\n",
              "      <td>300</td>\n",
              "      <td>23000</td>\n",
              "      <td>3</td>\n",
              "      <td>승인:</td>\n",
              "      <td>2020-01-01 00:01:14</td>\n",
              "      <td>2020-01-01 00:01:47</td>\n",
              "      <td>2020-01-01 00:18:47</td>\n",
              "      <td>NaN</td>\n",
              "    </tr>\n",
              "    <tr>\n",
              "      <th>3</th>\n",
              "      <td>4577989</td>\n",
              "      <td>2020-01-01</td>\n",
              "      <td>C000029</td>\n",
              "      <td>1</td>\n",
              "      <td>C000043</td>\n",
              "      <td>S0039634</td>\n",
              "      <td>한식</td>\n",
              "      <td>4115010100</td>\n",
              "      <td>경기도</td>\n",
              "      <td>의정부시</td>\n",
              "      <td>의정부동</td>\n",
              "      <td>NaN</td>\n",
              "      <td>4115051000</td>\n",
              "      <td>4.115043e+11</td>\n",
              "      <td>4.115010e+09</td>\n",
              "      <td>경기도</td>\n",
              "      <td>의정부시</td>\n",
              "      <td>의정부동</td>\n",
              "      <td>NaN</td>\n",
              "      <td>4.115051e+09</td>\n",
              "      <td>4.115043e+11</td>\n",
              "      <td>D0005061</td>\n",
              "      <td>4500</td>\n",
              "      <td>300</td>\n",
              "      <td>20000</td>\n",
              "      <td>2</td>\n",
              "      <td>NaN</td>\n",
              "      <td>2020-01-01 01:01:34</td>\n",
              "      <td>2020-01-01 01:28:06</td>\n",
              "      <td>2020-01-01 01:36:48</td>\n",
              "      <td>NaN</td>\n",
              "    </tr>\n",
              "    <tr>\n",
              "      <th>4</th>\n",
              "      <td>4577991</td>\n",
              "      <td>2020-01-01</td>\n",
              "      <td>C000130</td>\n",
              "      <td>1</td>\n",
              "      <td>C000130</td>\n",
              "      <td>S0002237</td>\n",
              "      <td>한식</td>\n",
              "      <td>4128112800</td>\n",
              "      <td>경기도</td>\n",
              "      <td>고양시 덕양구</td>\n",
              "      <td>행신동</td>\n",
              "      <td>NaN</td>\n",
              "      <td>4128164000</td>\n",
              "      <td>4.128144e+11</td>\n",
              "      <td>4.128110e+09</td>\n",
              "      <td>경기도</td>\n",
              "      <td>고양시 덕양구</td>\n",
              "      <td>주교동</td>\n",
              "      <td>NaN</td>\n",
              "      <td>4.128151e+09</td>\n",
              "      <td>4.128144e+11</td>\n",
              "      <td>D0005215</td>\n",
              "      <td>6500</td>\n",
              "      <td>300</td>\n",
              "      <td>32000</td>\n",
              "      <td>2</td>\n",
              "      <td>NaN</td>\n",
              "      <td>2020-01-01 01:05:06</td>\n",
              "      <td>2020-01-01 01:08:01</td>\n",
              "      <td>2020-01-01 01:29:00</td>\n",
              "      <td>NaN</td>\n",
              "    </tr>\n",
              "  </tbody>\n",
              "</table>\n",
              "</div>"
            ],
            "text/plain": [
              "   SERIAL_NUMBER  PROCESS_DT  ...      DLVR_COMPT_TIME  DLVR_CANCL_TIME\n",
              "0        4577985  2020-01-01  ...  2020-01-01 00:41:37              NaN\n",
              "1        4577986  2020-01-01  ...  2020-01-01 01:31:44              NaN\n",
              "2        4577988  2020-01-01  ...  2020-01-01 00:18:47              NaN\n",
              "3        4577989  2020-01-01  ...  2020-01-01 01:36:48              NaN\n",
              "4        4577991  2020-01-01  ...  2020-01-01 01:29:00              NaN\n",
              "\n",
              "[5 rows x 31 columns]"
            ]
          },
          "metadata": {
            "tags": []
          },
          "execution_count": 13
        }
      ]
    },
    {
      "cell_type": "code",
      "metadata": {
        "colab": {
          "base_uri": "https://localhost:8080/",
          "height": 195
        },
        "id": "FTdJPC1omOjo",
        "outputId": "07e54cd2-e144-4466-82de-91ab34e1f872"
      },
      "source": [
        "time = pd.read_csv(\"./COVID_19/Time.csv\")\n",
        "time.head()"
      ],
      "execution_count": 14,
      "outputs": [
        {
          "output_type": "execute_result",
          "data": {
            "text/html": [
              "<div>\n",
              "<style scoped>\n",
              "    .dataframe tbody tr th:only-of-type {\n",
              "        vertical-align: middle;\n",
              "    }\n",
              "\n",
              "    .dataframe tbody tr th {\n",
              "        vertical-align: top;\n",
              "    }\n",
              "\n",
              "    .dataframe thead th {\n",
              "        text-align: right;\n",
              "    }\n",
              "</style>\n",
              "<table border=\"1\" class=\"dataframe\">\n",
              "  <thead>\n",
              "    <tr style=\"text-align: right;\">\n",
              "      <th></th>\n",
              "      <th>date</th>\n",
              "      <th>time</th>\n",
              "      <th>test</th>\n",
              "      <th>negative</th>\n",
              "      <th>confirmed</th>\n",
              "      <th>released</th>\n",
              "      <th>deceased</th>\n",
              "    </tr>\n",
              "  </thead>\n",
              "  <tbody>\n",
              "    <tr>\n",
              "      <th>0</th>\n",
              "      <td>2020-01-20</td>\n",
              "      <td>16</td>\n",
              "      <td>1</td>\n",
              "      <td>0</td>\n",
              "      <td>1</td>\n",
              "      <td>0</td>\n",
              "      <td>0</td>\n",
              "    </tr>\n",
              "    <tr>\n",
              "      <th>1</th>\n",
              "      <td>2020-01-21</td>\n",
              "      <td>16</td>\n",
              "      <td>1</td>\n",
              "      <td>0</td>\n",
              "      <td>1</td>\n",
              "      <td>0</td>\n",
              "      <td>0</td>\n",
              "    </tr>\n",
              "    <tr>\n",
              "      <th>2</th>\n",
              "      <td>2020-01-22</td>\n",
              "      <td>16</td>\n",
              "      <td>4</td>\n",
              "      <td>3</td>\n",
              "      <td>1</td>\n",
              "      <td>0</td>\n",
              "      <td>0</td>\n",
              "    </tr>\n",
              "    <tr>\n",
              "      <th>3</th>\n",
              "      <td>2020-01-23</td>\n",
              "      <td>16</td>\n",
              "      <td>22</td>\n",
              "      <td>21</td>\n",
              "      <td>1</td>\n",
              "      <td>0</td>\n",
              "      <td>0</td>\n",
              "    </tr>\n",
              "    <tr>\n",
              "      <th>4</th>\n",
              "      <td>2020-01-24</td>\n",
              "      <td>16</td>\n",
              "      <td>27</td>\n",
              "      <td>25</td>\n",
              "      <td>2</td>\n",
              "      <td>0</td>\n",
              "      <td>0</td>\n",
              "    </tr>\n",
              "  </tbody>\n",
              "</table>\n",
              "</div>"
            ],
            "text/plain": [
              "         date  time  test  negative  confirmed  released  deceased\n",
              "0  2020-01-20    16     1         0          1         0         0\n",
              "1  2020-01-21    16     1         0          1         0         0\n",
              "2  2020-01-22    16     4         3          1         0         0\n",
              "3  2020-01-23    16    22        21          1         0         0\n",
              "4  2020-01-24    16    27        25          2         0         0"
            ]
          },
          "metadata": {
            "tags": []
          },
          "execution_count": 14
        }
      ]
    },
    {
      "cell_type": "code",
      "metadata": {
        "colab": {
          "base_uri": "https://localhost:8080/",
          "height": 195
        },
        "id": "AoyKtsy9kI7P",
        "outputId": "d8a8d441-d9c6-4ddd-f31d-7f1f97efb83c"
      },
      "source": [
        "index = pd.read_csv(\"./index.csv\")\n",
        "index.head()"
      ],
      "execution_count": 15,
      "outputs": [
        {
          "output_type": "execute_result",
          "data": {
            "text/html": [
              "<div>\n",
              "<style scoped>\n",
              "    .dataframe tbody tr th:only-of-type {\n",
              "        vertical-align: middle;\n",
              "    }\n",
              "\n",
              "    .dataframe tbody tr th {\n",
              "        vertical-align: top;\n",
              "    }\n",
              "\n",
              "    .dataframe thead th {\n",
              "        text-align: right;\n",
              "    }\n",
              "</style>\n",
              "<table border=\"1\" class=\"dataframe\">\n",
              "  <thead>\n",
              "    <tr style=\"text-align: right;\">\n",
              "      <th></th>\n",
              "      <th>period</th>\n",
              "      <th>catl</th>\n",
              "      <th>catm</th>\n",
              "      <th>age</th>\n",
              "      <th>gender</th>\n",
              "      <th>sido</th>\n",
              "      <th>sigungu</th>\n",
              "      <th>cgi</th>\n",
              "    </tr>\n",
              "  </thead>\n",
              "  <tbody>\n",
              "    <tr>\n",
              "      <th>0</th>\n",
              "      <td>201901</td>\n",
              "      <td>건강/의료용품</td>\n",
              "      <td>건강관리용품</td>\n",
              "      <td>20</td>\n",
              "      <td>F</td>\n",
              "      <td>서울</td>\n",
              "      <td>관악구</td>\n",
              "      <td>115.374642</td>\n",
              "    </tr>\n",
              "    <tr>\n",
              "      <th>1</th>\n",
              "      <td>201901</td>\n",
              "      <td>건강/의료용품</td>\n",
              "      <td>건강관리용품</td>\n",
              "      <td>20</td>\n",
              "      <td>F</td>\n",
              "      <td>서울</td>\n",
              "      <td>광진구</td>\n",
              "      <td>119.596454</td>\n",
              "    </tr>\n",
              "    <tr>\n",
              "      <th>2</th>\n",
              "      <td>201901</td>\n",
              "      <td>건강/의료용품</td>\n",
              "      <td>건강관리용품</td>\n",
              "      <td>20</td>\n",
              "      <td>F</td>\n",
              "      <td>서울</td>\n",
              "      <td>도봉구</td>\n",
              "      <td>156.992847</td>\n",
              "    </tr>\n",
              "    <tr>\n",
              "      <th>3</th>\n",
              "      <td>201901</td>\n",
              "      <td>건강/의료용품</td>\n",
              "      <td>건강관리용품</td>\n",
              "      <td>20</td>\n",
              "      <td>F</td>\n",
              "      <td>서울</td>\n",
              "      <td>동작구</td>\n",
              "      <td>58.342726</td>\n",
              "    </tr>\n",
              "    <tr>\n",
              "      <th>4</th>\n",
              "      <td>201901</td>\n",
              "      <td>건강/의료용품</td>\n",
              "      <td>건강관리용품</td>\n",
              "      <td>20</td>\n",
              "      <td>F</td>\n",
              "      <td>서울</td>\n",
              "      <td>마포구</td>\n",
              "      <td>145.147595</td>\n",
              "    </tr>\n",
              "  </tbody>\n",
              "</table>\n",
              "</div>"
            ],
            "text/plain": [
              "   period     catl    catm age gender sido sigungu         cgi\n",
              "0  201901  건강/의료용품  건강관리용품  20      F   서울     관악구  115.374642\n",
              "1  201901  건강/의료용품  건강관리용품  20      F   서울     광진구  119.596454\n",
              "2  201901  건강/의료용품  건강관리용품  20      F   서울     도봉구  156.992847\n",
              "3  201901  건강/의료용품  건강관리용품  20      F   서울     동작구   58.342726\n",
              "4  201901  건강/의료용품  건강관리용품  20      F   서울     마포구  145.147595"
            ]
          },
          "metadata": {
            "tags": []
          },
          "execution_count": 15
        }
      ]
    },
    {
      "cell_type": "code",
      "metadata": {
        "id": "yNsyng8J7Rx0"
      },
      "source": [
        "# date별 코로나 확진자 수"
      ],
      "execution_count": 16,
      "outputs": []
    },
    {
      "cell_type": "code",
      "metadata": {
        "colab": {
          "base_uri": "https://localhost:8080/",
          "height": 318
        },
        "id": "j7OhEz-mgX-2",
        "outputId": "a3910fd9-ea26-4ae4-c722-9c5919322ccb"
      },
      "source": [
        "time.date = pd.to_datetime(time.date)\n",
        "sns.lineplot(x=\"date\", y=\"confirmed\", data = time)\n",
        "plt.title(\"Confirmed by date\")"
      ],
      "execution_count": 17,
      "outputs": [
        {
          "output_type": "execute_result",
          "data": {
            "text/plain": [
              "Text(0.5, 1.0, 'Confirmed by date')"
            ]
          },
          "metadata": {
            "tags": []
          },
          "execution_count": 17
        },
        {
          "output_type": "display_data",
          "data": {
            "image/png": "[encoded data removed]",
            "text/plain": [
              "<Figure size 432x288 with 1 Axes>"
            ]
          },
          "metadata": {
            "tags": [],
            "image/png": {
              "width": 418,
              "height": 282
            },
            "needs_background": "light"
          }
        }
      ]
    },
    {
      "cell_type": "markdown",
      "metadata": {
        "id": "O8sa88K42R85"
      },
      "source": [
        "2019년을 코로나 이전, 2020년을 코로나 이후로 설정함\n"
      ]
    },
    {
      "cell_type": "code",
      "metadata": {
        "colab": {
          "base_uri": "https://localhost:8080/"
        },
        "id": "q8gL2e0hOvsk",
        "outputId": "d4895abc-b1d2-471c-afe7-4716c7b1a46e"
      },
      "source": [
        "#2019년의 데이터만 뽑기 위해 마지막 달인 12월까지 몇행인지 도출\n",
        "np.where(index.period == 201912)"
      ],
      "execution_count": 19,
      "outputs": [
        {
          "output_type": "execute_result",
          "data": {
            "text/plain": [
              "(array([82608, 82609, 82610, ..., 90125, 90126, 90127]),)"
            ]
          },
          "metadata": {
            "tags": []
          },
          "execution_count": 19
        }
      ]
    },
    {
      "cell_type": "code",
      "metadata": {
        "id": "UfxRkEpBWZ3s"
      },
      "source": [
        "#다시, year이라는 컬럼을 추가해 년만 표시되게 하기"
      ],
      "execution_count": 20,
      "outputs": []
    },
    {
      "cell_type": "code",
      "metadata": {
        "id": "ugyF9-YeSmA3"
      },
      "source": [
        "period_list = index.period.astype(str).tolist()"
      ],
      "execution_count": 21,
      "outputs": []
    },
    {
      "cell_type": "code",
      "metadata": {
        "id": "rGw689CobvOr"
      },
      "source": [
        "year_list = []\n",
        "for i in period_list:\n",
        "    year_list.append(i[0:4])"
      ],
      "execution_count": 22,
      "outputs": []
    },
    {
      "cell_type": "code",
      "metadata": {
        "colab": {
          "base_uri": "https://localhost:8080/",
          "height": 486
        },
        "id": "twuAVK_0b4Jh",
        "outputId": "1d61743b-c431-4fe6-f1e8-5ae5e937b799"
      },
      "source": [
        "index[\"year\"] = year_list\n",
        "index"
      ],
      "execution_count": 23,
      "outputs": [
        {
          "output_type": "execute_result",
          "data": {
            "text/html": [
              "<div>\n",
              "<style scoped>\n",
              "    .dataframe tbody tr th:only-of-type {\n",
              "        vertical-align: middle;\n",
              "    }\n",
              "\n",
              "    .dataframe tbody tr th {\n",
              "        vertical-align: top;\n",
              "    }\n",
              "\n",
              "    .dataframe thead th {\n",
              "        text-align: right;\n",
              "    }\n",
              "</style>\n",
              "<table border=\"1\" class=\"dataframe\">\n",
              "  <thead>\n",
              "    <tr style=\"text-align: right;\">\n",
              "      <th></th>\n",
              "      <th>period</th>\n",
              "      <th>catl</th>\n",
              "      <th>catm</th>\n",
              "      <th>age</th>\n",
              "      <th>gender</th>\n",
              "      <th>sido</th>\n",
              "      <th>sigungu</th>\n",
              "      <th>cgi</th>\n",
              "      <th>year</th>\n",
              "    </tr>\n",
              "  </thead>\n",
              "  <tbody>\n",
              "    <tr>\n",
              "      <th>0</th>\n",
              "      <td>201901</td>\n",
              "      <td>건강/의료용품</td>\n",
              "      <td>건강관리용품</td>\n",
              "      <td>20</td>\n",
              "      <td>F</td>\n",
              "      <td>서울</td>\n",
              "      <td>관악구</td>\n",
              "      <td>115.374642</td>\n",
              "      <td>2019</td>\n",
              "    </tr>\n",
              "    <tr>\n",
              "      <th>1</th>\n",
              "      <td>201901</td>\n",
              "      <td>건강/의료용품</td>\n",
              "      <td>건강관리용품</td>\n",
              "      <td>20</td>\n",
              "      <td>F</td>\n",
              "      <td>서울</td>\n",
              "      <td>광진구</td>\n",
              "      <td>119.596454</td>\n",
              "      <td>2019</td>\n",
              "    </tr>\n",
              "    <tr>\n",
              "      <th>2</th>\n",
              "      <td>201901</td>\n",
              "      <td>건강/의료용품</td>\n",
              "      <td>건강관리용품</td>\n",
              "      <td>20</td>\n",
              "      <td>F</td>\n",
              "      <td>서울</td>\n",
              "      <td>도봉구</td>\n",
              "      <td>156.992847</td>\n",
              "      <td>2019</td>\n",
              "    </tr>\n",
              "    <tr>\n",
              "      <th>3</th>\n",
              "      <td>201901</td>\n",
              "      <td>건강/의료용품</td>\n",
              "      <td>건강관리용품</td>\n",
              "      <td>20</td>\n",
              "      <td>F</td>\n",
              "      <td>서울</td>\n",
              "      <td>동작구</td>\n",
              "      <td>58.342726</td>\n",
              "      <td>2019</td>\n",
              "    </tr>\n",
              "    <tr>\n",
              "      <th>4</th>\n",
              "      <td>201901</td>\n",
              "      <td>건강/의료용품</td>\n",
              "      <td>건강관리용품</td>\n",
              "      <td>20</td>\n",
              "      <td>F</td>\n",
              "      <td>서울</td>\n",
              "      <td>마포구</td>\n",
              "      <td>145.147595</td>\n",
              "      <td>2019</td>\n",
              "    </tr>\n",
              "    <tr>\n",
              "      <th>...</th>\n",
              "      <td>...</td>\n",
              "      <td>...</td>\n",
              "      <td>...</td>\n",
              "      <td>...</td>\n",
              "      <td>...</td>\n",
              "      <td>...</td>\n",
              "      <td>...</td>\n",
              "      <td>...</td>\n",
              "      <td>...</td>\n",
              "    </tr>\n",
              "    <tr>\n",
              "      <th>127520</th>\n",
              "      <td>202005</td>\n",
              "      <td>화장품</td>\n",
              "      <td>화장품</td>\n",
              "      <td>all</td>\n",
              "      <td>all</td>\n",
              "      <td>서울</td>\n",
              "      <td>강서구</td>\n",
              "      <td>51.365660</td>\n",
              "      <td>2020</td>\n",
              "    </tr>\n",
              "    <tr>\n",
              "      <th>127521</th>\n",
              "      <td>202005</td>\n",
              "      <td>화장품</td>\n",
              "      <td>화장품</td>\n",
              "      <td>all</td>\n",
              "      <td>all</td>\n",
              "      <td>서울</td>\n",
              "      <td>관악구</td>\n",
              "      <td>61.997865</td>\n",
              "      <td>2020</td>\n",
              "    </tr>\n",
              "    <tr>\n",
              "      <th>127522</th>\n",
              "      <td>202005</td>\n",
              "      <td>화장품</td>\n",
              "      <td>화장품</td>\n",
              "      <td>all</td>\n",
              "      <td>all</td>\n",
              "      <td>서울</td>\n",
              "      <td>금천구</td>\n",
              "      <td>82.198402</td>\n",
              "      <td>2020</td>\n",
              "    </tr>\n",
              "    <tr>\n",
              "      <th>127523</th>\n",
              "      <td>202005</td>\n",
              "      <td>화장품</td>\n",
              "      <td>화장품</td>\n",
              "      <td>all</td>\n",
              "      <td>all</td>\n",
              "      <td>서울</td>\n",
              "      <td>도봉구</td>\n",
              "      <td>35.875600</td>\n",
              "      <td>2020</td>\n",
              "    </tr>\n",
              "    <tr>\n",
              "      <th>127524</th>\n",
              "      <td>202005</td>\n",
              "      <td>화장품</td>\n",
              "      <td>화장품</td>\n",
              "      <td>all</td>\n",
              "      <td>all</td>\n",
              "      <td>서울</td>\n",
              "      <td>용산구</td>\n",
              "      <td>45.569377</td>\n",
              "      <td>2020</td>\n",
              "    </tr>\n",
              "  </tbody>\n",
              "</table>\n",
              "<p>127525 rows × 9 columns</p>\n",
              "</div>"
            ],
            "text/plain": [
              "        period     catl    catm  age gender sido sigungu         cgi  year\n",
              "0       201901  건강/의료용품  건강관리용품   20      F   서울     관악구  115.374642  2019\n",
              "1       201901  건강/의료용품  건강관리용품   20      F   서울     광진구  119.596454  2019\n",
              "2       201901  건강/의료용품  건강관리용품   20      F   서울     도봉구  156.992847  2019\n",
              "3       201901  건강/의료용품  건강관리용품   20      F   서울     동작구   58.342726  2019\n",
              "4       201901  건강/의료용품  건강관리용품   20      F   서울     마포구  145.147595  2019\n",
              "...        ...      ...     ...  ...    ...  ...     ...         ...   ...\n",
              "127520  202005      화장품     화장품  all    all   서울     강서구   51.365660  2020\n",
              "127521  202005      화장품     화장품  all    all   서울     관악구   61.997865  2020\n",
              "127522  202005      화장품     화장품  all    all   서울     금천구   82.198402  2020\n",
              "127523  202005      화장품     화장품  all    all   서울     도봉구   35.875600  2020\n",
              "127524  202005      화장품     화장품  all    all   서울     용산구   45.569377  2020\n",
              "\n",
              "[127525 rows x 9 columns]"
            ]
          },
          "metadata": {
            "tags": []
          },
          "execution_count": 23
        }
      ]
    },
    {
      "cell_type": "code",
      "metadata": {
        "id": "t4Zx0Da-psw1"
      },
      "source": [
        "#코로나 이전(2019년) 데이터만 뽑기 위해 조건 설정"
      ],
      "execution_count": 24,
      "outputs": []
    },
    {
      "cell_type": "code",
      "metadata": {
        "colab": {
          "base_uri": "https://localhost:8080/",
          "height": 502
        },
        "id": "ftTonCUMhk79",
        "outputId": "8184530e-f67d-46b0-fbcd-fcd7742288ff"
      },
      "source": [
        "last_year = index[index[\"year\"] == '2019']\n",
        "last_year"
      ],
      "execution_count": 25,
      "outputs": [
        {
          "output_type": "execute_result",
          "data": {
            "text/html": [
              "<div>\n",
              "<style scoped>\n",
              "    .dataframe tbody tr th:only-of-type {\n",
              "        vertical-align: middle;\n",
              "    }\n",
              "\n",
              "    .dataframe tbody tr th {\n",
              "        vertical-align: top;\n",
              "    }\n",
              "\n",
              "    .dataframe thead th {\n",
              "        text-align: right;\n",
              "    }\n",
              "</style>\n",
              "<table border=\"1\" class=\"dataframe\">\n",
              "  <thead>\n",
              "    <tr style=\"text-align: right;\">\n",
              "      <th></th>\n",
              "      <th>period</th>\n",
              "      <th>catl</th>\n",
              "      <th>catm</th>\n",
              "      <th>age</th>\n",
              "      <th>gender</th>\n",
              "      <th>sido</th>\n",
              "      <th>sigungu</th>\n",
              "      <th>cgi</th>\n",
              "      <th>year</th>\n",
              "    </tr>\n",
              "  </thead>\n",
              "  <tbody>\n",
              "    <tr>\n",
              "      <th>0</th>\n",
              "      <td>201901</td>\n",
              "      <td>건강/의료용품</td>\n",
              "      <td>건강관리용품</td>\n",
              "      <td>20</td>\n",
              "      <td>F</td>\n",
              "      <td>서울</td>\n",
              "      <td>관악구</td>\n",
              "      <td>115.374642</td>\n",
              "      <td>2019</td>\n",
              "    </tr>\n",
              "    <tr>\n",
              "      <th>1</th>\n",
              "      <td>201901</td>\n",
              "      <td>건강/의료용품</td>\n",
              "      <td>건강관리용품</td>\n",
              "      <td>20</td>\n",
              "      <td>F</td>\n",
              "      <td>서울</td>\n",
              "      <td>광진구</td>\n",
              "      <td>119.596454</td>\n",
              "      <td>2019</td>\n",
              "    </tr>\n",
              "    <tr>\n",
              "      <th>2</th>\n",
              "      <td>201901</td>\n",
              "      <td>건강/의료용품</td>\n",
              "      <td>건강관리용품</td>\n",
              "      <td>20</td>\n",
              "      <td>F</td>\n",
              "      <td>서울</td>\n",
              "      <td>도봉구</td>\n",
              "      <td>156.992847</td>\n",
              "      <td>2019</td>\n",
              "    </tr>\n",
              "    <tr>\n",
              "      <th>3</th>\n",
              "      <td>201901</td>\n",
              "      <td>건강/의료용품</td>\n",
              "      <td>건강관리용품</td>\n",
              "      <td>20</td>\n",
              "      <td>F</td>\n",
              "      <td>서울</td>\n",
              "      <td>동작구</td>\n",
              "      <td>58.342726</td>\n",
              "      <td>2019</td>\n",
              "    </tr>\n",
              "    <tr>\n",
              "      <th>4</th>\n",
              "      <td>201901</td>\n",
              "      <td>건강/의료용품</td>\n",
              "      <td>건강관리용품</td>\n",
              "      <td>20</td>\n",
              "      <td>F</td>\n",
              "      <td>서울</td>\n",
              "      <td>마포구</td>\n",
              "      <td>145.147595</td>\n",
              "      <td>2019</td>\n",
              "    </tr>\n",
              "    <tr>\n",
              "      <th>...</th>\n",
              "      <td>...</td>\n",
              "      <td>...</td>\n",
              "      <td>...</td>\n",
              "      <td>...</td>\n",
              "      <td>...</td>\n",
              "      <td>...</td>\n",
              "      <td>...</td>\n",
              "      <td>...</td>\n",
              "      <td>...</td>\n",
              "    </tr>\n",
              "    <tr>\n",
              "      <th>90123</th>\n",
              "      <td>201912</td>\n",
              "      <td>화장품</td>\n",
              "      <td>화장품</td>\n",
              "      <td>all</td>\n",
              "      <td>all</td>\n",
              "      <td>서울</td>\n",
              "      <td>all</td>\n",
              "      <td>72.688013</td>\n",
              "      <td>2019</td>\n",
              "    </tr>\n",
              "    <tr>\n",
              "      <th>90124</th>\n",
              "      <td>201912</td>\n",
              "      <td>화장품</td>\n",
              "      <td>화장품</td>\n",
              "      <td>all</td>\n",
              "      <td>all</td>\n",
              "      <td>서울</td>\n",
              "      <td>강동구</td>\n",
              "      <td>111.745516</td>\n",
              "      <td>2019</td>\n",
              "    </tr>\n",
              "    <tr>\n",
              "      <th>90125</th>\n",
              "      <td>201912</td>\n",
              "      <td>화장품</td>\n",
              "      <td>화장품</td>\n",
              "      <td>all</td>\n",
              "      <td>all</td>\n",
              "      <td>서울</td>\n",
              "      <td>서대문구</td>\n",
              "      <td>24.279394</td>\n",
              "      <td>2019</td>\n",
              "    </tr>\n",
              "    <tr>\n",
              "      <th>90126</th>\n",
              "      <td>201912</td>\n",
              "      <td>화장품</td>\n",
              "      <td>화장품</td>\n",
              "      <td>all</td>\n",
              "      <td>all</td>\n",
              "      <td>서울</td>\n",
              "      <td>서초구</td>\n",
              "      <td>25.715134</td>\n",
              "      <td>2019</td>\n",
              "    </tr>\n",
              "    <tr>\n",
              "      <th>90127</th>\n",
              "      <td>201912</td>\n",
              "      <td>화장품</td>\n",
              "      <td>화장품</td>\n",
              "      <td>all</td>\n",
              "      <td>all</td>\n",
              "      <td>서울</td>\n",
              "      <td>중구</td>\n",
              "      <td>74.841259</td>\n",
              "      <td>2019</td>\n",
              "    </tr>\n",
              "  </tbody>\n",
              "</table>\n",
              "<p>90128 rows × 9 columns</p>\n",
              "</div>"
            ],
            "text/plain": [
              "       period     catl    catm  age gender sido sigungu         cgi  year\n",
              "0      201901  건강/의료용품  건강관리용품   20      F   서울     관악구  115.374642  2019\n",
              "1      201901  건강/의료용품  건강관리용품   20      F   서울     광진구  119.596454  2019\n",
              "2      201901  건강/의료용품  건강관리용품   20      F   서울     도봉구  156.992847  2019\n",
              "3      201901  건강/의료용품  건강관리용품   20      F   서울     동작구   58.342726  2019\n",
              "4      201901  건강/의료용품  건강관리용품   20      F   서울     마포구  145.147595  2019\n",
              "...       ...      ...     ...  ...    ...  ...     ...         ...   ...\n",
              "90123  201912      화장품     화장품  all    all   서울     all   72.688013  2019\n",
              "90124  201912      화장품     화장품  all    all   서울     강동구  111.745516  2019\n",
              "90125  201912      화장품     화장품  all    all   서울    서대문구   24.279394  2019\n",
              "90126  201912      화장품     화장품  all    all   서울     서초구   25.715134  2019\n",
              "90127  201912      화장품     화장품  all    all   서울      중구   74.841259  2019\n",
              "\n",
              "[90128 rows x 9 columns]"
            ]
          },
          "metadata": {
            "tags": []
          },
          "execution_count": 25
        }
      ]
    },
    {
      "cell_type": "code",
      "metadata": {
        "id": "Iqh5QjWj5xav"
      },
      "source": [
        ""
      ],
      "execution_count": 25,
      "outputs": []
    },
    {
      "cell_type": "code",
      "metadata": {
        "id": "RvBErqX8qKtf"
      },
      "source": [
        "#코로나 이후(2020년) 데이터"
      ],
      "execution_count": 26,
      "outputs": []
    },
    {
      "cell_type": "code",
      "metadata": {
        "colab": {
          "base_uri": "https://localhost:8080/",
          "height": 486
        },
        "id": "fECqydLLqB1Z",
        "outputId": "18583f14-c42a-4321-fe2e-374973dd221f"
      },
      "source": [
        "now_year = index[index[\"year\"] == '2020']\n",
        "now_year"
      ],
      "execution_count": 27,
      "outputs": [
        {
          "output_type": "execute_result",
          "data": {
            "text/html": [
              "<div>\n",
              "<style scoped>\n",
              "    .dataframe tbody tr th:only-of-type {\n",
              "        vertical-align: middle;\n",
              "    }\n",
              "\n",
              "    .dataframe tbody tr th {\n",
              "        vertical-align: top;\n",
              "    }\n",
              "\n",
              "    .dataframe thead th {\n",
              "        text-align: right;\n",
              "    }\n",
              "</style>\n",
              "<table border=\"1\" class=\"dataframe\">\n",
              "  <thead>\n",
              "    <tr style=\"text-align: right;\">\n",
              "      <th></th>\n",
              "      <th>period</th>\n",
              "      <th>catl</th>\n",
              "      <th>catm</th>\n",
              "      <th>age</th>\n",
              "      <th>gender</th>\n",
              "      <th>sido</th>\n",
              "      <th>sigungu</th>\n",
              "      <th>cgi</th>\n",
              "      <th>year</th>\n",
              "    </tr>\n",
              "  </thead>\n",
              "  <tbody>\n",
              "    <tr>\n",
              "      <th>90128</th>\n",
              "      <td>202001</td>\n",
              "      <td>건강/의료용품</td>\n",
              "      <td>건강관리용품</td>\n",
              "      <td>20</td>\n",
              "      <td>F</td>\n",
              "      <td>서울</td>\n",
              "      <td>all</td>\n",
              "      <td>101.080460</td>\n",
              "      <td>2020</td>\n",
              "    </tr>\n",
              "    <tr>\n",
              "      <th>90129</th>\n",
              "      <td>202001</td>\n",
              "      <td>건강/의료용품</td>\n",
              "      <td>건강관리용품</td>\n",
              "      <td>20</td>\n",
              "      <td>F</td>\n",
              "      <td>서울</td>\n",
              "      <td>강동구</td>\n",
              "      <td>142.598266</td>\n",
              "      <td>2020</td>\n",
              "    </tr>\n",
              "    <tr>\n",
              "      <th>90130</th>\n",
              "      <td>202001</td>\n",
              "      <td>건강/의료용품</td>\n",
              "      <td>건강관리용품</td>\n",
              "      <td>20</td>\n",
              "      <td>F</td>\n",
              "      <td>서울</td>\n",
              "      <td>광진구</td>\n",
              "      <td>92.484593</td>\n",
              "      <td>2020</td>\n",
              "    </tr>\n",
              "    <tr>\n",
              "      <th>90131</th>\n",
              "      <td>202001</td>\n",
              "      <td>건강/의료용품</td>\n",
              "      <td>건강관리용품</td>\n",
              "      <td>20</td>\n",
              "      <td>F</td>\n",
              "      <td>서울</td>\n",
              "      <td>구로구</td>\n",
              "      <td>162.756403</td>\n",
              "      <td>2020</td>\n",
              "    </tr>\n",
              "    <tr>\n",
              "      <th>90132</th>\n",
              "      <td>202001</td>\n",
              "      <td>건강/의료용품</td>\n",
              "      <td>건강관리용품</td>\n",
              "      <td>20</td>\n",
              "      <td>F</td>\n",
              "      <td>서울</td>\n",
              "      <td>양천구</td>\n",
              "      <td>77.568793</td>\n",
              "      <td>2020</td>\n",
              "    </tr>\n",
              "    <tr>\n",
              "      <th>...</th>\n",
              "      <td>...</td>\n",
              "      <td>...</td>\n",
              "      <td>...</td>\n",
              "      <td>...</td>\n",
              "      <td>...</td>\n",
              "      <td>...</td>\n",
              "      <td>...</td>\n",
              "      <td>...</td>\n",
              "      <td>...</td>\n",
              "    </tr>\n",
              "    <tr>\n",
              "      <th>127520</th>\n",
              "      <td>202005</td>\n",
              "      <td>화장품</td>\n",
              "      <td>화장품</td>\n",
              "      <td>all</td>\n",
              "      <td>all</td>\n",
              "      <td>서울</td>\n",
              "      <td>강서구</td>\n",
              "      <td>51.365660</td>\n",
              "      <td>2020</td>\n",
              "    </tr>\n",
              "    <tr>\n",
              "      <th>127521</th>\n",
              "      <td>202005</td>\n",
              "      <td>화장품</td>\n",
              "      <td>화장품</td>\n",
              "      <td>all</td>\n",
              "      <td>all</td>\n",
              "      <td>서울</td>\n",
              "      <td>관악구</td>\n",
              "      <td>61.997865</td>\n",
              "      <td>2020</td>\n",
              "    </tr>\n",
              "    <tr>\n",
              "      <th>127522</th>\n",
              "      <td>202005</td>\n",
              "      <td>화장품</td>\n",
              "      <td>화장품</td>\n",
              "      <td>all</td>\n",
              "      <td>all</td>\n",
              "      <td>서울</td>\n",
              "      <td>금천구</td>\n",
              "      <td>82.198402</td>\n",
              "      <td>2020</td>\n",
              "    </tr>\n",
              "    <tr>\n",
              "      <th>127523</th>\n",
              "      <td>202005</td>\n",
              "      <td>화장품</td>\n",
              "      <td>화장품</td>\n",
              "      <td>all</td>\n",
              "      <td>all</td>\n",
              "      <td>서울</td>\n",
              "      <td>도봉구</td>\n",
              "      <td>35.875600</td>\n",
              "      <td>2020</td>\n",
              "    </tr>\n",
              "    <tr>\n",
              "      <th>127524</th>\n",
              "      <td>202005</td>\n",
              "      <td>화장품</td>\n",
              "      <td>화장품</td>\n",
              "      <td>all</td>\n",
              "      <td>all</td>\n",
              "      <td>서울</td>\n",
              "      <td>용산구</td>\n",
              "      <td>45.569377</td>\n",
              "      <td>2020</td>\n",
              "    </tr>\n",
              "  </tbody>\n",
              "</table>\n",
              "<p>37397 rows × 9 columns</p>\n",
              "</div>"
            ],
            "text/plain": [
              "        period     catl    catm  age gender sido sigungu         cgi  year\n",
              "90128   202001  건강/의료용품  건강관리용품   20      F   서울     all  101.080460  2020\n",
              "90129   202001  건강/의료용품  건강관리용품   20      F   서울     강동구  142.598266  2020\n",
              "90130   202001  건강/의료용품  건강관리용품   20      F   서울     광진구   92.484593  2020\n",
              "90131   202001  건강/의료용품  건강관리용품   20      F   서울     구로구  162.756403  2020\n",
              "90132   202001  건강/의료용품  건강관리용품   20      F   서울     양천구   77.568793  2020\n",
              "...        ...      ...     ...  ...    ...  ...     ...         ...   ...\n",
              "127520  202005      화장품     화장품  all    all   서울     강서구   51.365660  2020\n",
              "127521  202005      화장품     화장품  all    all   서울     관악구   61.997865  2020\n",
              "127522  202005      화장품     화장품  all    all   서울     금천구   82.198402  2020\n",
              "127523  202005      화장품     화장품  all    all   서울     도봉구   35.875600  2020\n",
              "127524  202005      화장품     화장품  all    all   서울     용산구   45.569377  2020\n",
              "\n",
              "[37397 rows x 9 columns]"
            ]
          },
          "metadata": {
            "tags": []
          },
          "execution_count": 27
        }
      ]
    },
    {
      "cell_type": "code",
      "metadata": {
        "id": "TtqSTkHzpdXg"
      },
      "source": [
        "# 2019년의 연령대별 품목별 cgi의 평균값"
      ],
      "execution_count": 28,
      "outputs": []
    },
    {
      "cell_type": "code",
      "metadata": {
        "colab": {
          "base_uri": "https://localhost:8080/",
          "height": 787
        },
        "id": "QOg4lX6-jF0q",
        "outputId": "fa9c2c20-21ca-4cfd-9beb-869a623d4daa"
      },
      "source": [
        "last_mean = last_year.groupby(['year', 'age', 'catl']).mean()\n",
        "last_mean = last_mean.drop(columns = 'period')\n",
        "last_mean"
      ],
      "execution_count": 29,
      "outputs": [
        {
          "output_type": "execute_result",
          "data": {
            "text/html": [
              "<div>\n",
              "<style scoped>\n",
              "    .dataframe tbody tr th:only-of-type {\n",
              "        vertical-align: middle;\n",
              "    }\n",
              "\n",
              "    .dataframe tbody tr th {\n",
              "        vertical-align: top;\n",
              "    }\n",
              "\n",
              "    .dataframe thead th {\n",
              "        text-align: right;\n",
              "    }\n",
              "</style>\n",
              "<table border=\"1\" class=\"dataframe\">\n",
              "  <thead>\n",
              "    <tr style=\"text-align: right;\">\n",
              "      <th></th>\n",
              "      <th></th>\n",
              "      <th></th>\n",
              "      <th>cgi</th>\n",
              "    </tr>\n",
              "    <tr>\n",
              "      <th>year</th>\n",
              "      <th>age</th>\n",
              "      <th>catl</th>\n",
              "      <th></th>\n",
              "    </tr>\n",
              "  </thead>\n",
              "  <tbody>\n",
              "    <tr>\n",
              "      <th rowspan=\"24\" valign=\"top\">2019</th>\n",
              "      <th rowspan=\"4\" valign=\"top\">20</th>\n",
              "      <th>건강/의료용품</th>\n",
              "      <td>129.885245</td>\n",
              "    </tr>\n",
              "    <tr>\n",
              "      <th>식품</th>\n",
              "      <td>118.586497</td>\n",
              "    </tr>\n",
              "    <tr>\n",
              "      <th>일용품</th>\n",
              "      <td>125.029549</td>\n",
              "    </tr>\n",
              "    <tr>\n",
              "      <th>화장품</th>\n",
              "      <td>120.923962</td>\n",
              "    </tr>\n",
              "    <tr>\n",
              "      <th rowspan=\"4\" valign=\"top\">30</th>\n",
              "      <th>건강/의료용품</th>\n",
              "      <td>95.776843</td>\n",
              "    </tr>\n",
              "    <tr>\n",
              "      <th>식품</th>\n",
              "      <td>101.027994</td>\n",
              "    </tr>\n",
              "    <tr>\n",
              "      <th>일용품</th>\n",
              "      <td>99.908279</td>\n",
              "    </tr>\n",
              "    <tr>\n",
              "      <th>화장품</th>\n",
              "      <td>93.591992</td>\n",
              "    </tr>\n",
              "    <tr>\n",
              "      <th rowspan=\"4\" valign=\"top\">40</th>\n",
              "      <th>건강/의료용품</th>\n",
              "      <td>104.186269</td>\n",
              "    </tr>\n",
              "    <tr>\n",
              "      <th>식품</th>\n",
              "      <td>99.451845</td>\n",
              "    </tr>\n",
              "    <tr>\n",
              "      <th>일용품</th>\n",
              "      <td>96.973864</td>\n",
              "    </tr>\n",
              "    <tr>\n",
              "      <th>화장품</th>\n",
              "      <td>88.120565</td>\n",
              "    </tr>\n",
              "    <tr>\n",
              "      <th rowspan=\"4\" valign=\"top\">50</th>\n",
              "      <th>건강/의료용품</th>\n",
              "      <td>104.197599</td>\n",
              "    </tr>\n",
              "    <tr>\n",
              "      <th>식품</th>\n",
              "      <td>101.345769</td>\n",
              "    </tr>\n",
              "    <tr>\n",
              "      <th>일용품</th>\n",
              "      <td>92.956185</td>\n",
              "    </tr>\n",
              "    <tr>\n",
              "      <th>화장품</th>\n",
              "      <td>86.100039</td>\n",
              "    </tr>\n",
              "    <tr>\n",
              "      <th rowspan=\"4\" valign=\"top\">60</th>\n",
              "      <th>건강/의료용품</th>\n",
              "      <td>113.988335</td>\n",
              "    </tr>\n",
              "    <tr>\n",
              "      <th>식품</th>\n",
              "      <td>102.282403</td>\n",
              "    </tr>\n",
              "    <tr>\n",
              "      <th>일용품</th>\n",
              "      <td>100.047142</td>\n",
              "    </tr>\n",
              "    <tr>\n",
              "      <th>화장품</th>\n",
              "      <td>92.799079</td>\n",
              "    </tr>\n",
              "    <tr>\n",
              "      <th rowspan=\"4\" valign=\"top\">all</th>\n",
              "      <th>건강/의료용품</th>\n",
              "      <td>103.287897</td>\n",
              "    </tr>\n",
              "    <tr>\n",
              "      <th>식품</th>\n",
              "      <td>101.287899</td>\n",
              "    </tr>\n",
              "    <tr>\n",
              "      <th>일용품</th>\n",
              "      <td>95.536417</td>\n",
              "    </tr>\n",
              "    <tr>\n",
              "      <th>화장품</th>\n",
              "      <td>87.280067</td>\n",
              "    </tr>\n",
              "  </tbody>\n",
              "</table>\n",
              "</div>"
            ],
            "text/plain": [
              "                         cgi\n",
              "year age catl               \n",
              "2019 20  건강/의료용품  129.885245\n",
              "         식품       118.586497\n",
              "         일용품      125.029549\n",
              "         화장품      120.923962\n",
              "     30  건강/의료용품   95.776843\n",
              "         식품       101.027994\n",
              "         일용품       99.908279\n",
              "         화장품       93.591992\n",
              "     40  건강/의료용품  104.186269\n",
              "         식품        99.451845\n",
              "         일용품       96.973864\n",
              "         화장품       88.120565\n",
              "     50  건강/의료용품  104.197599\n",
              "         식품       101.345769\n",
              "         일용품       92.956185\n",
              "         화장품       86.100039\n",
              "     60  건강/의료용품  113.988335\n",
              "         식품       102.282403\n",
              "         일용품      100.047142\n",
              "         화장품       92.799079\n",
              "     all 건강/의료용품  103.287897\n",
              "         식품       101.287899\n",
              "         일용품       95.536417\n",
              "         화장품       87.280067"
            ]
          },
          "metadata": {
            "tags": []
          },
          "execution_count": 29
        }
      ]
    },
    {
      "cell_type": "code",
      "metadata": {
        "id": "KginSPa16KqV"
      },
      "source": [
        "#2020년의 연령대별 품목별 cgi의 평균값"
      ],
      "execution_count": 30,
      "outputs": []
    },
    {
      "cell_type": "code",
      "metadata": {
        "colab": {
          "base_uri": "https://localhost:8080/",
          "height": 787
        },
        "id": "yRf41YdQ6MoV",
        "outputId": "563b8441-06ae-4232-f8dd-464b43418126"
      },
      "source": [
        "now_mean = now_year.groupby(['year', 'age', 'catl']).mean()\n",
        "now_mean = now_mean.drop(columns = 'period')\n",
        "now_mean"
      ],
      "execution_count": 31,
      "outputs": [
        {
          "output_type": "execute_result",
          "data": {
            "text/html": [
              "<div>\n",
              "<style scoped>\n",
              "    .dataframe tbody tr th:only-of-type {\n",
              "        vertical-align: middle;\n",
              "    }\n",
              "\n",
              "    .dataframe tbody tr th {\n",
              "        vertical-align: top;\n",
              "    }\n",
              "\n",
              "    .dataframe thead th {\n",
              "        text-align: right;\n",
              "    }\n",
              "</style>\n",
              "<table border=\"1\" class=\"dataframe\">\n",
              "  <thead>\n",
              "    <tr style=\"text-align: right;\">\n",
              "      <th></th>\n",
              "      <th></th>\n",
              "      <th></th>\n",
              "      <th>cgi</th>\n",
              "    </tr>\n",
              "    <tr>\n",
              "      <th>year</th>\n",
              "      <th>age</th>\n",
              "      <th>catl</th>\n",
              "      <th></th>\n",
              "    </tr>\n",
              "  </thead>\n",
              "  <tbody>\n",
              "    <tr>\n",
              "      <th rowspan=\"24\" valign=\"top\">2020</th>\n",
              "      <th rowspan=\"4\" valign=\"top\">20</th>\n",
              "      <th>건강/의료용품</th>\n",
              "      <td>125.643626</td>\n",
              "    </tr>\n",
              "    <tr>\n",
              "      <th>식품</th>\n",
              "      <td>112.201102</td>\n",
              "    </tr>\n",
              "    <tr>\n",
              "      <th>일용품</th>\n",
              "      <td>104.349345</td>\n",
              "    </tr>\n",
              "    <tr>\n",
              "      <th>화장품</th>\n",
              "      <td>94.520504</td>\n",
              "    </tr>\n",
              "    <tr>\n",
              "      <th rowspan=\"4\" valign=\"top\">30</th>\n",
              "      <th>건강/의료용품</th>\n",
              "      <td>85.074590</td>\n",
              "    </tr>\n",
              "    <tr>\n",
              "      <th>식품</th>\n",
              "      <td>87.849004</td>\n",
              "    </tr>\n",
              "    <tr>\n",
              "      <th>일용품</th>\n",
              "      <td>70.823055</td>\n",
              "    </tr>\n",
              "    <tr>\n",
              "      <th>화장품</th>\n",
              "      <td>87.529506</td>\n",
              "    </tr>\n",
              "    <tr>\n",
              "      <th rowspan=\"4\" valign=\"top\">40</th>\n",
              "      <th>건강/의료용품</th>\n",
              "      <td>91.254463</td>\n",
              "    </tr>\n",
              "    <tr>\n",
              "      <th>식품</th>\n",
              "      <td>88.175043</td>\n",
              "    </tr>\n",
              "    <tr>\n",
              "      <th>일용품</th>\n",
              "      <td>79.965584</td>\n",
              "    </tr>\n",
              "    <tr>\n",
              "      <th>화장품</th>\n",
              "      <td>65.652442</td>\n",
              "    </tr>\n",
              "    <tr>\n",
              "      <th rowspan=\"4\" valign=\"top\">50</th>\n",
              "      <th>건강/의료용품</th>\n",
              "      <td>95.223442</td>\n",
              "    </tr>\n",
              "    <tr>\n",
              "      <th>식품</th>\n",
              "      <td>91.623447</td>\n",
              "    </tr>\n",
              "    <tr>\n",
              "      <th>일용품</th>\n",
              "      <td>76.642391</td>\n",
              "    </tr>\n",
              "    <tr>\n",
              "      <th>화장품</th>\n",
              "      <td>70.240234</td>\n",
              "    </tr>\n",
              "    <tr>\n",
              "      <th rowspan=\"4\" valign=\"top\">60</th>\n",
              "      <th>건강/의료용품</th>\n",
              "      <td>93.147133</td>\n",
              "    </tr>\n",
              "    <tr>\n",
              "      <th>식품</th>\n",
              "      <td>91.330089</td>\n",
              "    </tr>\n",
              "    <tr>\n",
              "      <th>일용품</th>\n",
              "      <td>86.947310</td>\n",
              "    </tr>\n",
              "    <tr>\n",
              "      <th>화장품</th>\n",
              "      <td>79.629638</td>\n",
              "    </tr>\n",
              "    <tr>\n",
              "      <th rowspan=\"4\" valign=\"top\">all</th>\n",
              "      <th>건강/의료용품</th>\n",
              "      <td>91.544952</td>\n",
              "    </tr>\n",
              "    <tr>\n",
              "      <th>식품</th>\n",
              "      <td>89.828966</td>\n",
              "    </tr>\n",
              "    <tr>\n",
              "      <th>일용품</th>\n",
              "      <td>78.400660</td>\n",
              "    </tr>\n",
              "    <tr>\n",
              "      <th>화장품</th>\n",
              "      <td>72.365893</td>\n",
              "    </tr>\n",
              "  </tbody>\n",
              "</table>\n",
              "</div>"
            ],
            "text/plain": [
              "                         cgi\n",
              "year age catl               \n",
              "2020 20  건강/의료용품  125.643626\n",
              "         식품       112.201102\n",
              "         일용품      104.349345\n",
              "         화장품       94.520504\n",
              "     30  건강/의료용품   85.074590\n",
              "         식품        87.849004\n",
              "         일용품       70.823055\n",
              "         화장품       87.529506\n",
              "     40  건강/의료용품   91.254463\n",
              "         식품        88.175043\n",
              "         일용품       79.965584\n",
              "         화장품       65.652442\n",
              "     50  건강/의료용품   95.223442\n",
              "         식품        91.623447\n",
              "         일용품       76.642391\n",
              "         화장품       70.240234\n",
              "     60  건강/의료용품   93.147133\n",
              "         식품        91.330089\n",
              "         일용품       86.947310\n",
              "         화장품       79.629638\n",
              "     all 건강/의료용품   91.544952\n",
              "         식품        89.828966\n",
              "         일용품       78.400660\n",
              "         화장품       72.365893"
            ]
          },
          "metadata": {
            "tags": []
          },
          "execution_count": 31
        }
      ]
    },
    {
      "cell_type": "code",
      "metadata": {
        "id": "px0X_fKoxQaZ"
      },
      "source": [
        "#2019년의 연령대별 품목별 cgi평균의 시각화"
      ],
      "execution_count": 32,
      "outputs": []
    },
    {
      "cell_type": "code",
      "metadata": {
        "colab": {
          "base_uri": "https://localhost:8080/",
          "height": 254
        },
        "id": "8ubZWeqZNAmX",
        "outputId": "e18bb099-9d1c-4840-d31c-ac135a80fbd3"
      },
      "source": [
        "last_mean1 = pd.pivot_table(\n",
        "    last_mean,\n",
        "    index = \"age\",\n",
        "    columns = \"catl\",\n",
        "    values = \"cgi\",\n",
        "    aggfunc = \"mean\"\n",
        ")\n",
        "last_mean1"
      ],
      "execution_count": 33,
      "outputs": [
        {
          "output_type": "execute_result",
          "data": {
            "text/html": [
              "<div>\n",
              "<style scoped>\n",
              "    .dataframe tbody tr th:only-of-type {\n",
              "        vertical-align: middle;\n",
              "    }\n",
              "\n",
              "    .dataframe tbody tr th {\n",
              "        vertical-align: top;\n",
              "    }\n",
              "\n",
              "    .dataframe thead th {\n",
              "        text-align: right;\n",
              "    }\n",
              "</style>\n",
              "<table border=\"1\" class=\"dataframe\">\n",
              "  <thead>\n",
              "    <tr style=\"text-align: right;\">\n",
              "      <th>catl</th>\n",
              "      <th>건강/의료용품</th>\n",
              "      <th>식품</th>\n",
              "      <th>일용품</th>\n",
              "      <th>화장품</th>\n",
              "    </tr>\n",
              "    <tr>\n",
              "      <th>age</th>\n",
              "      <th></th>\n",
              "      <th></th>\n",
              "      <th></th>\n",
              "      <th></th>\n",
              "    </tr>\n",
              "  </thead>\n",
              "  <tbody>\n",
              "    <tr>\n",
              "      <th>20</th>\n",
              "      <td>129.885245</td>\n",
              "      <td>118.586497</td>\n",
              "      <td>125.029549</td>\n",
              "      <td>120.923962</td>\n",
              "    </tr>\n",
              "    <tr>\n",
              "      <th>30</th>\n",
              "      <td>95.776843</td>\n",
              "      <td>101.027994</td>\n",
              "      <td>99.908279</td>\n",
              "      <td>93.591992</td>\n",
              "    </tr>\n",
              "    <tr>\n",
              "      <th>40</th>\n",
              "      <td>104.186269</td>\n",
              "      <td>99.451845</td>\n",
              "      <td>96.973864</td>\n",
              "      <td>88.120565</td>\n",
              "    </tr>\n",
              "    <tr>\n",
              "      <th>50</th>\n",
              "      <td>104.197599</td>\n",
              "      <td>101.345769</td>\n",
              "      <td>92.956185</td>\n",
              "      <td>86.100039</td>\n",
              "    </tr>\n",
              "    <tr>\n",
              "      <th>60</th>\n",
              "      <td>113.988335</td>\n",
              "      <td>102.282403</td>\n",
              "      <td>100.047142</td>\n",
              "      <td>92.799079</td>\n",
              "    </tr>\n",
              "    <tr>\n",
              "      <th>all</th>\n",
              "      <td>103.287897</td>\n",
              "      <td>101.287899</td>\n",
              "      <td>95.536417</td>\n",
              "      <td>87.280067</td>\n",
              "    </tr>\n",
              "  </tbody>\n",
              "</table>\n",
              "</div>"
            ],
            "text/plain": [
              "catl     건강/의료용품          식품         일용품         화장품\n",
              "age                                                 \n",
              "20    129.885245  118.586497  125.029549  120.923962\n",
              "30     95.776843  101.027994   99.908279   93.591992\n",
              "40    104.186269   99.451845   96.973864   88.120565\n",
              "50    104.197599  101.345769   92.956185   86.100039\n",
              "60    113.988335  102.282403  100.047142   92.799079\n",
              "all   103.287897  101.287899   95.536417   87.280067"
            ]
          },
          "metadata": {
            "tags": []
          },
          "execution_count": 33
        }
      ]
    },
    {
      "cell_type": "code",
      "metadata": {
        "colab": {
          "base_uri": "https://localhost:8080/",
          "height": 612
        },
        "id": "3luGc2IAbAGV",
        "outputId": "2fe45661-5874-449f-80ce-d8a7c0868206"
      },
      "source": [
        "ax = last_mean1.plot.bar()\n",
        "fig = ax.get_figure()\n",
        "fig.set_size_inches(15,10)\n",
        "ax.set_xlabel(\"age\")\n",
        "ax.set_ylabel(\"cgi\")\n",
        "plt.axhline(y=100, color='r', linewidth=1)\n",
        "plt.show()"
      ],
      "execution_count": 34,
      "outputs": [
        {
          "output_type": "display_data",
          "data": {
            "image/png": "[encoded data removed]",
            "text/plain": [
              "<Figure size 1080x720 with 1 Axes>"
            ]
          },
          "metadata": {
            "tags": [],
            "image/png": {
              "width": 895,
              "height": 595
            },
            "needs_background": "light"
          }
        }
      ]
    },
    {
      "cell_type": "code",
      "metadata": {
        "id": "u8Z2GjG-xX0b"
      },
      "source": [
        "#2020년의 연령대별 품목별 cgi의 시각화"
      ],
      "execution_count": 35,
      "outputs": []
    },
    {
      "cell_type": "code",
      "metadata": {
        "colab": {
          "base_uri": "https://localhost:8080/",
          "height": 254
        },
        "id": "vfqhQjbaJwQW",
        "outputId": "bd488068-3312-4be3-c100-3e22eecf4806"
      },
      "source": [
        "now_mean1 = pd.pivot_table(\n",
        "    now_mean,\n",
        "    index = \"age\",\n",
        "    columns = \"catl\",\n",
        "    values = \"cgi\",\n",
        "    aggfunc = \"mean\"\n",
        ")\n",
        "now_mean1"
      ],
      "execution_count": 36,
      "outputs": [
        {
          "output_type": "execute_result",
          "data": {
            "text/html": [
              "<div>\n",
              "<style scoped>\n",
              "    .dataframe tbody tr th:only-of-type {\n",
              "        vertical-align: middle;\n",
              "    }\n",
              "\n",
              "    .dataframe tbody tr th {\n",
              "        vertical-align: top;\n",
              "    }\n",
              "\n",
              "    .dataframe thead th {\n",
              "        text-align: right;\n",
              "    }\n",
              "</style>\n",
              "<table border=\"1\" class=\"dataframe\">\n",
              "  <thead>\n",
              "    <tr style=\"text-align: right;\">\n",
              "      <th>catl</th>\n",
              "      <th>건강/의료용품</th>\n",
              "      <th>식품</th>\n",
              "      <th>일용품</th>\n",
              "      <th>화장품</th>\n",
              "    </tr>\n",
              "    <tr>\n",
              "      <th>age</th>\n",
              "      <th></th>\n",
              "      <th></th>\n",
              "      <th></th>\n",
              "      <th></th>\n",
              "    </tr>\n",
              "  </thead>\n",
              "  <tbody>\n",
              "    <tr>\n",
              "      <th>20</th>\n",
              "      <td>125.643626</td>\n",
              "      <td>112.201102</td>\n",
              "      <td>104.349345</td>\n",
              "      <td>94.520504</td>\n",
              "    </tr>\n",
              "    <tr>\n",
              "      <th>30</th>\n",
              "      <td>85.074590</td>\n",
              "      <td>87.849004</td>\n",
              "      <td>70.823055</td>\n",
              "      <td>87.529506</td>\n",
              "    </tr>\n",
              "    <tr>\n",
              "      <th>40</th>\n",
              "      <td>91.254463</td>\n",
              "      <td>88.175043</td>\n",
              "      <td>79.965584</td>\n",
              "      <td>65.652442</td>\n",
              "    </tr>\n",
              "    <tr>\n",
              "      <th>50</th>\n",
              "      <td>95.223442</td>\n",
              "      <td>91.623447</td>\n",
              "      <td>76.642391</td>\n",
              "      <td>70.240234</td>\n",
              "    </tr>\n",
              "    <tr>\n",
              "      <th>60</th>\n",
              "      <td>93.147133</td>\n",
              "      <td>91.330089</td>\n",
              "      <td>86.947310</td>\n",
              "      <td>79.629638</td>\n",
              "    </tr>\n",
              "    <tr>\n",
              "      <th>all</th>\n",
              "      <td>91.544952</td>\n",
              "      <td>89.828966</td>\n",
              "      <td>78.400660</td>\n",
              "      <td>72.365893</td>\n",
              "    </tr>\n",
              "  </tbody>\n",
              "</table>\n",
              "</div>"
            ],
            "text/plain": [
              "catl     건강/의료용품          식품         일용품        화장품\n",
              "age                                                \n",
              "20    125.643626  112.201102  104.349345  94.520504\n",
              "30     85.074590   87.849004   70.823055  87.529506\n",
              "40     91.254463   88.175043   79.965584  65.652442\n",
              "50     95.223442   91.623447   76.642391  70.240234\n",
              "60     93.147133   91.330089   86.947310  79.629638\n",
              "all    91.544952   89.828966   78.400660  72.365893"
            ]
          },
          "metadata": {
            "tags": []
          },
          "execution_count": 36
        }
      ]
    },
    {
      "cell_type": "code",
      "metadata": {
        "colab": {
          "base_uri": "https://localhost:8080/",
          "height": 612
        },
        "id": "DzcGJdFcJqrr",
        "outputId": "85002d56-3860-41b6-ba49-22117f331dea"
      },
      "source": [
        "ax = now_mean1.plot.bar()\n",
        "fig = ax.get_figure()\n",
        "fig.set_size_inches(15,10)\n",
        "ax.set_xlabel(\"age\")\n",
        "ax.set_ylabel(\"cgi\")\n",
        "plt.axhline(y=100, color='r', linewidth=1)\n",
        "plt.show()"
      ],
      "execution_count": 37,
      "outputs": [
        {
          "output_type": "display_data",
          "data": {
            "image/png": "[encoded data removed]",
            "text/plain": [
              "<Figure size 1080x720 with 1 Axes>"
            ]
          },
          "metadata": {
            "tags": [],
            "image/png": {
              "width": 895,
              "height": 595
            },
            "needs_background": "light"
          }
        }
      ]
    },
    {
      "cell_type": "code",
      "metadata": {
        "id": "UrL2zdjOXPFZ"
      },
      "source": [
        "#연령별로 나눠서 보기로 결정"
      ],
      "execution_count": 38,
      "outputs": []
    },
    {
      "cell_type": "code",
      "metadata": {
        "id": "HTqIXFWIgVDO"
      },
      "source": [
        "last_mean20 = last_mean1.iloc[[0],:]\n",
        "now_mean20 = now_mean1.iloc[[0],:]\n",
        "result20 = pd.concat([last_mean20, now_mean20])\n",
        "\n",
        "last_mean30 = last_mean1.iloc[[1],:]\n",
        "now_mean30 = now_mean1.iloc[[1],:]\n",
        "result30 = pd.concat([last_mean30, now_mean30])\n",
        "\n",
        "last_mean40 = last_mean1.iloc[[2],:]\n",
        "now_mean40 = now_mean1.iloc[[2],:]\n",
        "result40 = pd.concat([last_mean40, now_mean40])\n",
        "\n",
        "last_mean50 = last_mean1.iloc[[3],:]\n",
        "now_mean50 = now_mean1.iloc[[3],:]\n",
        "result50 = pd.concat([last_mean50, now_mean50])\n",
        "\n",
        "last_mean60 = last_mean1.iloc[[4],:]\n",
        "now_mean60 = now_mean1.iloc[[4],:]\n",
        "result60 = pd.concat([last_mean60, now_mean60])\n"
      ],
      "execution_count": 206,
      "outputs": []
    },
    {
      "cell_type": "code",
      "metadata": {
        "id": "AyX9uttbpVYL"
      },
      "source": [
        "# 20대 cgi 비교"
      ],
      "execution_count": null,
      "outputs": []
    },
    {
      "cell_type": "code",
      "metadata": {
        "colab": {
          "base_uri": "https://localhost:8080/",
          "height": 538
        },
        "id": "eiF9SEyLUSH5",
        "outputId": "0cb72e68-f72d-42e1-f451-bdbd53b9667f"
      },
      "source": [
        "fig, axes = plt.subplots(nrows=1, ncols=2)\n",
        "fig.set_size_inches(5,8)\n",
        "\n",
        "\n",
        "axes[0].set_title(\"2019년 20대 cgi\")\n",
        "axes[1].set_title(\"2020년 20대 cgi\")\n",
        "last_mean20.plot(ax=axes[0], kind= 'bar')\n",
        "now_mean20.plot(ax=axes[1], kind= 'bar')\n",
        "\n",
        "plt.subplots_adjust(right=1.1)\n",
        "axes[0].legend(loc = \"lower center\")\n",
        "axes[1].legend(loc = \"lower center\")\n",
        "axes[0].axhline(y=100, color='r', linewidth=1)\n",
        "axes[1].axhline(y=100, color='r', linewidth=1)\n",
        "axes[0].set_ylim(0,140)\n",
        "axes[1].set_ylim(0,140)"
      ],
      "execution_count": 200,
      "outputs": [
        {
          "output_type": "execute_result",
          "data": {
            "text/plain": [
              "(0.0, 140.0)"
            ]
          },
          "metadata": {
            "tags": []
          },
          "execution_count": 200
        },
        {
          "output_type": "display_data",
          "data": {
            "image/png": "[encoded data removed]",
            "text/plain": [
              "<Figure size 360x576 with 2 Axes>"
            ]
          },
          "metadata": {
            "tags": [],
            "image/png": {
              "width": 394,
              "height": 503
            },
            "needs_background": "light"
          }
        }
      ]
    },
    {
      "cell_type": "code",
      "metadata": {
        "id": "8PXYRGTLznCH"
      },
      "source": [
        "## 화장품의 매출이 확연히 감소한 것으로 사료됨."
      ],
      "execution_count": null,
      "outputs": []
    },
    {
      "cell_type": "code",
      "metadata": {
        "id": "HAy7vgkdpUZ-"
      },
      "source": [
        "#30대 cgi 비교"
      ],
      "execution_count": null,
      "outputs": []
    },
    {
      "cell_type": "code",
      "metadata": {
        "colab": {
          "base_uri": "https://localhost:8080/",
          "height": 557
        },
        "id": "6lJWeGOfpfna",
        "outputId": "1ad6a196-b094-471f-a559-d5853b370186"
      },
      "source": [
        "fig, axes = plt.subplots(nrows=1, ncols=2)\n",
        "fig.set_size_inches(5,8)\n",
        "\n",
        "axes[0].set_title(\"2019년 30대 cgi\")\n",
        "axes[1].set_title(\"2020년 30대 cgi\")\n",
        "axes[0].legend(loc = \"lower center\")\n",
        "last_mean30.plot(ax=axes[0], kind= 'bar')\n",
        "now_mean30.plot(ax=axes[1], kind= 'bar')\n",
        "\n",
        "plt.subplots_adjust(right=1.3)\n",
        "axes[0].legend(loc = \"lower center\")\n",
        "axes[1].legend(loc = \"lower center\")\n",
        "axes[0].axhline(y=100, color='r', linewidth=1)\n",
        "axes[1].axhline(y=100, color='r', linewidth=1)\n",
        "axes[0].set_ylim(0,120)\n",
        "axes[1].set_ylim(0,120)"
      ],
      "execution_count": 202,
      "outputs": [
        {
          "output_type": "stream",
          "text": [
            "No handles with labels found to put in legend.\n"
          ],
          "name": "stderr"
        },
        {
          "output_type": "execute_result",
          "data": {
            "text/plain": [
              "(0.0, 120.0)"
            ]
          },
          "metadata": {
            "tags": []
          },
          "execution_count": 202
        },
        {
          "output_type": "display_data",
          "data": {
            "image/png": "[encoded data removed]",
            "text/plain": [
              "<Figure size 360x576 with 2 Axes>"
            ]
          },
          "metadata": {
            "tags": [],
            "image/png": {
              "width": 466,
              "height": 503
            },
            "needs_background": "light"
          }
        }
      ]
    },
    {
      "cell_type": "code",
      "metadata": {
        "id": "mVMP8XvVzxu-"
      },
      "source": [
        "## 모든 품목의 매출이 일제히 줄었으며, 특히 일용품의 매출이 눈에 띄게 감소함."
      ],
      "execution_count": null,
      "outputs": []
    },
    {
      "cell_type": "code",
      "metadata": {
        "id": "oNTlqTqRpUVA"
      },
      "source": [
        "#40대 cgi 비교"
      ],
      "execution_count": null,
      "outputs": []
    },
    {
      "cell_type": "code",
      "metadata": {
        "colab": {
          "base_uri": "https://localhost:8080/",
          "height": 557
        },
        "id": "MmegQDxApgDO",
        "outputId": "563428ec-05fd-4185-9b02-90d1691f469c"
      },
      "source": [
        "fig, axes = plt.subplots(nrows=1, ncols=2)\n",
        "fig.set_size_inches(5,8)\n",
        "\n",
        "axes[0].set_title(\"2019년 40대 cgi\")\n",
        "axes[1].set_title(\"2020년 40대 cgi\")\n",
        "axes[0].legend(loc = \"lower center\")\n",
        "last_mean40.plot(ax=axes[0], kind= 'bar')\n",
        "now_mean40.plot(ax=axes[1], kind= 'bar')\n",
        "\n",
        "plt.subplots_adjust(right=1.3)\n",
        "axes[0].legend(loc = \"lower center\")\n",
        "axes[1].legend(loc = \"lower center\")\n",
        "axes[0].axhline(y=100, color='r', linewidth=1)\n",
        "axes[1].axhline(y=100, color='r', linewidth=1)\n",
        "axes[0].set_ylim(0,120)\n",
        "axes[1].set_ylim(0,120)"
      ],
      "execution_count": 203,
      "outputs": [
        {
          "output_type": "stream",
          "text": [
            "No handles with labels found to put in legend.\n"
          ],
          "name": "stderr"
        },
        {
          "output_type": "execute_result",
          "data": {
            "text/plain": [
              "(0.0, 120.0)"
            ]
          },
          "metadata": {
            "tags": []
          },
          "execution_count": 203
        },
        {
          "output_type": "display_data",
          "data": {
            "image/png": "[encoded data removed]",
            "text/plain": [
              "<Figure size 360x576 with 2 Axes>"
            ]
          },
          "metadata": {
            "tags": [],
            "image/png": {
              "width": 466,
              "height": 503
            },
            "needs_background": "light"
          }
        }
      ]
    },
    {
      "cell_type": "code",
      "metadata": {
        "id": "pVi06Ax20Fw5"
      },
      "source": [
        "## 모든 품목의 매출이 하락함."
      ],
      "execution_count": null,
      "outputs": []
    },
    {
      "cell_type": "code",
      "metadata": {
        "id": "ydAWKv0opUPq"
      },
      "source": [
        "#50대 cgi 비교"
      ],
      "execution_count": null,
      "outputs": []
    },
    {
      "cell_type": "code",
      "metadata": {
        "colab": {
          "base_uri": "https://localhost:8080/",
          "height": 557
        },
        "id": "89IQXpipphOD",
        "outputId": "9ea3d11f-7413-49de-aa93-90c0ab79ec54"
      },
      "source": [
        "fig, axes = plt.subplots(nrows=1, ncols=2)\n",
        "fig.set_size_inches(5,8)\n",
        "\n",
        "axes[0].set_title(\"2019년 50대 cgi\")\n",
        "axes[1].set_title(\"2020년 50대 cgi\")\n",
        "axes[0].legend(loc = \"lower center\")\n",
        "last_mean50.plot(ax=axes[0], kind= 'bar')\n",
        "now_mean50.plot(ax=axes[1], kind= 'bar')\n",
        "\n",
        "plt.subplots_adjust(right=1.3)\n",
        "axes[0].legend(loc = \"lower center\")\n",
        "axes[1].legend(loc = \"lower center\")\n",
        "axes[0].axhline(y=100, color='r', linewidth=1)\n",
        "axes[1].axhline(y=100, color='r', linewidth=1)\n",
        "axes[0].set_ylim(0,120)\n",
        "axes[1].set_ylim(0,120)"
      ],
      "execution_count": 204,
      "outputs": [
        {
          "output_type": "stream",
          "text": [
            "No handles with labels found to put in legend.\n"
          ],
          "name": "stderr"
        },
        {
          "output_type": "execute_result",
          "data": {
            "text/plain": [
              "(0.0, 120.0)"
            ]
          },
          "metadata": {
            "tags": []
          },
          "execution_count": 204
        },
        {
          "output_type": "display_data",
          "data": {
            "image/png": "[encoded data removed]",
            "text/plain": [
              "<Figure size 360x576 with 2 Axes>"
            ]
          },
          "metadata": {
            "tags": [],
            "image/png": {
              "width": 466,
              "height": 503
            },
            "needs_background": "light"
          }
        }
      ]
    },
    {
      "cell_type": "code",
      "metadata": {
        "id": "pLNre-pH0L35"
      },
      "source": [
        "##모든 품목의 매출이 하락함."
      ],
      "execution_count": null,
      "outputs": []
    },
    {
      "cell_type": "code",
      "metadata": {
        "id": "EZzEqNDqpUGT"
      },
      "source": [
        "#60대 cgi 비교"
      ],
      "execution_count": null,
      "outputs": []
    },
    {
      "cell_type": "code",
      "metadata": {
        "colab": {
          "base_uri": "https://localhost:8080/",
          "height": 557
        },
        "id": "0XI_G2SRpgqw",
        "outputId": "be2a78ef-e6c0-4b07-d72a-5ab195c1fa8f"
      },
      "source": [
        "fig, axes = plt.subplots(nrows=1, ncols=2)\n",
        "fig.set_size_inches(5,8)\n",
        "\n",
        "axes[0].set_title(\"2019년 60대 cgi\")\n",
        "axes[1].set_title(\"2020년 60대 cgi\")\n",
        "axes[0].legend(loc = \"lower center\")\n",
        "last_mean60.plot(ax=axes[0], kind= 'bar')\n",
        "now_mean60.plot(ax=axes[1], kind= 'bar')\n",
        "\n",
        "plt.subplots_adjust(right=1.3)\n",
        "axes[0].legend(loc = \"lower center\")\n",
        "axes[1].legend(loc = \"lower center\")\n",
        "axes[0].axhline(y=100, color='r', linewidth=1)\n",
        "axes[1].axhline(y=100, color='r', linewidth=1)\n",
        "axes[0].set_ylim(0,120)\n",
        "axes[1].set_ylim(0,120)"
      ],
      "execution_count": 205,
      "outputs": [
        {
          "output_type": "stream",
          "text": [
            "No handles with labels found to put in legend.\n"
          ],
          "name": "stderr"
        },
        {
          "output_type": "execute_result",
          "data": {
            "text/plain": [
              "(0.0, 120.0)"
            ]
          },
          "metadata": {
            "tags": []
          },
          "execution_count": 205
        },
        {
          "output_type": "display_data",
          "data": {
            "image/png": "[encoded data removed]",
            "text/plain": [
              "<Figure size 360x576 with 2 Axes>"
            ]
          },
          "metadata": {
            "tags": [],
            "image/png": {
              "width": 466,
              "height": 503
            },
            "needs_background": "light"
          }
        }
      ]
    },
    {
      "cell_type": "code",
      "metadata": {
        "id": "WVjIYZOv0Ow_"
      },
      "source": [
        "## 모든 품목의 매출이 하락함."
      ],
      "execution_count": null,
      "outputs": []
    },
    {
      "cell_type": "markdown",
      "metadata": {
        "id": "MveqrtJ30lFT"
      },
      "source": [
        "2018년 대비 코로나 이후 cgi 지수는 일제히 감소했지만 특정 품목에 대해서 눈에띄게 감소한 점은 특징지을 수 없음."
      ]
    }
  ]
}